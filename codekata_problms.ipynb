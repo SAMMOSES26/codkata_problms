{
  "nbformat": 4,
  "nbformat_minor": 0,
  "metadata": {
    "colab": {
      "provenance": [],
      "authorship_tag": "ABX9TyMctVoJ13f8AbN+45wEOnLO",
      "include_colab_link": true
    },
    "kernelspec": {
      "name": "python3",
      "display_name": "Python 3"
    },
    "language_info": {
      "name": "python"
    }
  },
  "cells": [
    {
      "cell_type": "markdown",
      "metadata": {
        "id": "view-in-github",
        "colab_type": "text"
      },
      "source": [
        "<a href=\"https://colab.research.google.com/github/SAMMOSES26/codkata_problms/blob/main/codekata_problms.ipynb\" target=\"_parent\"><img src=\"https://colab.research.google.com/assets/colab-badge.svg\" alt=\"Open In Colab\"/></a>"
      ]
    },
    {
      "cell_type": "code",
      "execution_count": null,
      "metadata": {
        "colab": {
          "base_uri": "https://localhost:8080/"
        },
        "id": "8Osyf961MWAx",
        "outputId": "56443e00-a59f-4850-9fbb-7ac6440ff025"
      },
      "outputs": [
        {
          "output_type": "stream",
          "name": "stdout",
          "text": [
            "Sample Input: 2\n",
            "Sample Output: 2\n"
          ]
        }
      ],
      "source": [
        "# 1. Write a code to get the input in the given format and print the output in the given format\n",
        "\n",
        "# Input Description:\n",
        "# To take an integer value\n",
        "\n",
        "# Output Description:\n",
        "# Print the integer value\n",
        "\n",
        "# Sample Input :\n",
        "# 2\n",
        "\n",
        "# Sample Output :\n",
        "# 2\n",
        "\n",
        "a=int(input(\"Sample Input: \" ))\n",
        "print(\"Sample Output:\", a)"
      ]
    },
    {
      "cell_type": "code",
      "source": [
        "# 2. Write a code to get the input in the given format and print the output in the given format\n",
        "\n",
        "# Input Description:\n",
        "# A single line contains integers separated by space\n",
        "\n",
        "# Output Description:\n",
        "# Print the integer list of integers separated by space\n",
        "\n",
        "# Sample Input :\n",
        "# 2 3 4 5 6 7 8\n",
        "\n",
        "# Sample Output :\n",
        "# # 2 3 4 5 6 7 8\n",
        "\n",
        "a=list(map(int,input(\"Sample Input: \" ).split(\" \")))\n",
        "print(\"Sample Output:\", *a)"
      ],
      "metadata": {
        "colab": {
          "base_uri": "https://localhost:8080/"
        },
        "id": "WCldvCQrNW2Y",
        "outputId": "46140ee9-ca4e-4594-96f1-0f7bc329b88e"
      },
      "execution_count": null,
      "outputs": [
        {
          "output_type": "stream",
          "name": "stdout",
          "text": [
            "Sample Input: 2 3 44\n",
            "Sample Output: 2 3 44\n"
          ]
        }
      ]
    },
    {
      "cell_type": "code",
      "source": [
        "# 3. Write a code to get the input in the given format and print the output in the given format.\n",
        "\n",
        "# Input Description:\n",
        "# First-line indicates two integers which are the size of array and 'K' value. Second-line indicates an integer contains elements of an array.\n",
        "\n",
        "# Output Description:\n",
        "# Print the taken input in the same format.\n",
        "\n",
        "# Sample Input :\n",
        "# 5 3\n",
        "# 1 2 3 4 5\n",
        "# Sample Output :\n",
        "# 5 3\n",
        "# 1 2 3 4 5\n",
        "\n",
        "a=list(map(int,input(\"Sample Input: \").split(\" \")))\n",
        "b=list(map(int,input(\"Sample Input: \").split(\" \")))\n",
        "print(\"Sample Output :\",*a)\n",
        "print(\"Sample Output :\",*b)"
      ],
      "metadata": {
        "id": "CKXnEI7jNZzp",
        "outputId": "94447ab1-c916-4908-bace-3b37ba46f0a8",
        "colab": {
          "base_uri": "https://localhost:8080/"
        }
      },
      "execution_count": 4,
      "outputs": [
        {
          "output_type": "stream",
          "name": "stdout",
          "text": [
            "Sample Input: 5 3\n",
            "Sample Input: 1 2 3 4 5\n",
            "Sample Output : 5 3\n",
            "Sample Output : 1 2 3 4 5\n"
          ]
        }
      ]
    }
  ]
}