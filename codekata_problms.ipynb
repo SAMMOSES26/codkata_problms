{
  "nbformat": 4,
  "nbformat_minor": 0,
  "metadata": {
    "colab": {
      "provenance": [],
      "authorship_tag": "ABX9TyN1BFKA08r7uM+mNzke1HS7",
      "include_colab_link": true
    },
    "kernelspec": {
      "name": "python3",
      "display_name": "Python 3"
    },
    "language_info": {
      "name": "python"
    }
  },
  "cells": [
    {
      "cell_type": "markdown",
      "metadata": {
        "id": "view-in-github",
        "colab_type": "text"
      },
      "source": [
        "<a href=\"https://colab.research.google.com/github/SAMMOSES26/codkata_problms/blob/main/codekata_problms.ipynb\" target=\"_parent\"><img src=\"https://colab.research.google.com/assets/colab-badge.svg\" alt=\"Open In Colab\"/></a>"
      ]
    },
    {
      "cell_type": "markdown",
      "source": [
        "# **Input/Output**"
      ],
      "metadata": {
        "id": "zd5RY1DkSat4"
      }
    },
    {
      "cell_type": "code",
      "execution_count": null,
      "metadata": {
        "colab": {
          "base_uri": "https://localhost:8080/"
        },
        "id": "8Osyf961MWAx",
        "outputId": "56443e00-a59f-4850-9fbb-7ac6440ff025"
      },
      "outputs": [
        {
          "output_type": "stream",
          "name": "stdout",
          "text": [
            "Sample Input: 2\n",
            "Sample Output: 2\n"
          ]
        }
      ],
      "source": [
        "# 1. Write a code to get the input in the given format and print the output in the given format\n",
        "\n",
        "# Input Description:\n",
        "# To take an integer value\n",
        "\n",
        "# Output Description:\n",
        "# Print the integer value\n",
        "\n",
        "# Sample Input :\n",
        "# 2\n",
        "\n",
        "# Sample Output :\n",
        "# 2\n",
        "\n",
        "a=int(input(\"Sample Input: \" ))\n",
        "print(\"Sample Output:\", a)"
      ]
    },
    {
      "cell_type": "code",
      "source": [
        "# 2. Write a code to get the input in the given format and print the output in the given format\n",
        "\n",
        "# Input Description:\n",
        "# A single line contains integers separated by space\n",
        "\n",
        "# Output Description:\n",
        "# Print the integer list of integers separated by space\n",
        "\n",
        "# Sample Input :\n",
        "# 2 3 4 5 6 7 8\n",
        "\n",
        "# Sample Output :\n",
        "# # 2 3 4 5 6 7 8\n",
        "\n",
        "a=list(map(int,input(\"Sample Input: \" ).split(\" \")))\n",
        "print(\"Sample Output:\", *a)"
      ],
      "metadata": {
        "colab": {
          "base_uri": "https://localhost:8080/"
        },
        "id": "WCldvCQrNW2Y",
        "outputId": "dba239cf-2619-4f90-ace7-1c3fa6880fae"
      },
      "execution_count": 8,
      "outputs": [
        {
          "output_type": "stream",
          "name": "stdout",
          "text": [
            "Sample Input: 2 3 4 5 6 7 8\n",
            "Sample Output: 2 3 4 5 6 7 8\n"
          ]
        }
      ]
    },
    {
      "cell_type": "code",
      "source": [
        "# 3. Write a code to get the input in the given format and print the output in the given format.\n",
        "\n",
        "# Input Description:\n",
        "# First-line indicates two integers which are the size of array and 'K' value. Second-line indicates an integer contains elements of an array.\n",
        "\n",
        "# Output Description:\n",
        "# Print the taken input in the same format.\n",
        "\n",
        "# Sample Input :\n",
        "# 5 3\n",
        "# 1 2 3 4 5\n",
        "# Sample Output :\n",
        "# 5 3\n",
        "# 1 2 3 4 5\n",
        "print(\"Sample Input: \")\n",
        "a=list(map(int,input().split(\" \")))\n",
        "b=list(map(int,input().split(\" \")))\n",
        "print(\"Sample Output: \")\n",
        "print(*a)\n",
        "print(*b)"
      ],
      "metadata": {
        "colab": {
          "base_uri": "https://localhost:8080/"
        },
        "id": "CKXnEI7jNZzp",
        "outputId": "96ba6122-8edf-4c07-b2b9-31e4be2f3e68"
      },
      "execution_count": 9,
      "outputs": [
        {
          "output_type": "stream",
          "name": "stdout",
          "text": [
            "Sample Input: \n",
            "5 3\n",
            "1 2 3 4 5\n",
            "Sample Output: \n",
            "5 3\n",
            "1 2 3 4 5\n"
          ]
        }
      ]
    },
    {
      "cell_type": "code",
      "source": [
        "#4.  Write a code to get the input in the given format and print the output in the given format\n",
        "\n",
        "# Input Description:\n",
        "# First-line indicates two integers separated by space. Second-line indicates two integers separated by space. Third-line indicates two integers separated by space.\n",
        "\n",
        "# Output Description:\n",
        "# Print the input in the same format.\n",
        "\n",
        "# Sample Input :\n",
        "# 2 4\n",
        "# 2 4\n",
        "# 2 4\n",
        "# Sample Output :\n",
        "# 2 4\n",
        "# 2 4\n",
        "# 2 4\n",
        "print(\"Sample Input: \")\n",
        "a=list(map(int,input().split(\" \")))\n",
        "b=list(map(int,input().split(\" \")))\n",
        "c=list(map(int,input().split(\" \")))\n",
        "print(\"Sample Output: \")\n",
        "print(*a)\n",
        "print(*b)\n",
        "print(*c)"
      ],
      "metadata": {
        "colab": {
          "base_uri": "https://localhost:8080/"
        },
        "id": "DGk1fglEPMo-",
        "outputId": "e39783ef-4358-4efe-aa46-0d0878bc6750"
      },
      "execution_count": 11,
      "outputs": [
        {
          "output_type": "stream",
          "name": "stdout",
          "text": [
            "Sample Input: \n",
            "2 4\n",
            "2 4\n",
            "2 4\n",
            "Sample Output: \n",
            "2 4\n",
            "2 4\n",
            "2 4\n"
          ]
        }
      ]
    },
    {
      "cell_type": "code",
      "source": [
        "# 5. Write a code to get the input in the given format and print the output in the given format\n",
        "\n",
        "# Input Description:\n",
        "# Three integers are given in line by line.\n",
        "\n",
        "# Output Description:\n",
        "# Print the integers in a single line separate by space.\n",
        "\n",
        "# Sample Input :\n",
        "# 2\n",
        "# 4\n",
        "# 5\n",
        "# Sample Output :\n",
        "# 2 4 5\n",
        "print(\"Sample input: \")\n",
        "a=int(input())\n",
        "b=int(input())\n",
        "c=int(input())\n",
        "print(\"Sample Output: \")\n",
        "print(a,b,c)\n",
        "# type(a)"
      ],
      "metadata": {
        "colab": {
          "base_uri": "https://localhost:8080/"
        },
        "id": "HUi2fZN_PqBr",
        "outputId": "f3321afa-eea5-4693-a371-71058b322927"
      },
      "execution_count": 13,
      "outputs": [
        {
          "output_type": "stream",
          "name": "stdout",
          "text": [
            "Sample input: \n",
            "2\n",
            "4\n",
            "5\n",
            "Sample Output: \n",
            "2 4 5\n"
          ]
        }
      ]
    },
    {
      "cell_type": "code",
      "source": [
        "# 6. Write a code to get the input in the given format and print the output in the given format\n",
        "\n",
        "# Input Description:\n",
        "# First-line indicates two integers separated by space. Second-line indicates three integers separated by space. Third-line indicates three integers separated by space\n",
        "\n",
        "# Output Description:\n",
        "# Print the input in the same format.\n",
        "\n",
        "# Sample Input :\n",
        "# 2 5\n",
        "# 2 5 6\n",
        "# 2 4 5\n",
        "# Sample Output :\n",
        "# 2 5\n",
        "# 2 5 6\n",
        "# 2 4 5\n",
        "print(\"Sample input: \")\n",
        "a=list(map(int,input().split(\" \")))\n",
        "b=list(map(int,input().split(\" \")))\n",
        "c=list(map(int,input().split(\" \")))\n",
        "print(\"Sample Output: \")\n",
        "print(*a)\n",
        "print(*b)\n",
        "print(*c)"
      ],
      "metadata": {
        "colab": {
          "base_uri": "https://localhost:8080/"
        },
        "id": "L2XKT8GKQ6RS",
        "outputId": "821ce0c2-5f73-4f8f-f7bb-686f6dffd7ae"
      },
      "execution_count": 14,
      "outputs": [
        {
          "output_type": "stream",
          "name": "stdout",
          "text": [
            "Sample input: \n",
            "2 5\n",
            "2 5 6\n",
            "2 4 5\n",
            "Sample Output: \n",
            "2 5\n",
            "2 5 6\n",
            "2 4 5\n"
          ]
        }
      ]
    },
    {
      "cell_type": "code",
      "source": [
        "# 7. Write a code to get the input in the given format and print the output in the given format\n",
        "\n",
        "# Input Description:\n",
        "# A single line contains a string.\n",
        "\n",
        "# Output Description:\n",
        "# Print the characters in a string separated by space.\n",
        "\n",
        "# Sample Input :\n",
        "# guvi\n",
        "# Sample Output :\n",
        "# g u v i\n",
        "\n",
        "a=input()\n",
        "\n",
        "print(*a)"
      ],
      "metadata": {
        "colab": {
          "base_uri": "https://localhost:8080/"
        },
        "id": "-b30rhjBRSwF",
        "outputId": "3c7abe55-dd33-459b-b3ae-35c5f7e21b90"
      },
      "execution_count": 16,
      "outputs": [
        {
          "output_type": "stream",
          "name": "stdout",
          "text": [
            "sam\n",
            "s a m\n"
          ]
        }
      ]
    },
    {
      "cell_type": "code",
      "source": [
        "# 8. Write a code to get the input in the given format and print the output in the given format.\n",
        "\n",
        "# Input Description:\n",
        "# A single line contains three float values separated by space.\n",
        "\n",
        "# Output Description:\n",
        "# Print the float value separated by line.\n",
        "\n",
        "# Sample Input :\n",
        "# 2.3 4.5 7.8\n",
        "# Sample Output :\n",
        "# 2.3\n",
        "# 4.5\n",
        "# 7.8\n",
        "\n",
        "a=input().split(\" \")\n",
        "\n",
        "for i in a:\n",
        "  print(i)"
      ],
      "metadata": {
        "colab": {
          "base_uri": "https://localhost:8080/"
        },
        "id": "lVleN_aUSVnD",
        "outputId": "3d0d487b-5dfd-439b-fa1f-3e88d3eb94dc"
      },
      "execution_count": 2,
      "outputs": [
        {
          "output_type": "stream",
          "name": "stdout",
          "text": [
            "2.3 4.5 7.8\n",
            "2.3\n",
            "4.5\n",
            "7.8\n"
          ]
        }
      ]
    },
    {
      "cell_type": "code",
      "source": [
        "# 9.Write a code to get the input in the given format and print the output in the given format.\n",
        "\n",
        "# Input Description:\n",
        "# A single line contains a string.\n",
        "\n",
        "# Output Description:\n",
        "# Print the characters in a string separated by line.\n",
        "\n",
        "# Sample Input :\n",
        "# guvigeek\n",
        "# Sample Output :\n",
        "# g\n",
        "# u\n",
        "# v\n",
        "# i\n",
        "# g\n",
        "# e\n",
        "# e\n",
        "# k\n",
        "print(\"Sample Input\")\n",
        "a=input()\n",
        "print(\"Sample Output\")\n",
        "for i in a:\n",
        "  print(i)\n"
      ],
      "metadata": {
        "colab": {
          "base_uri": "https://localhost:8080/"
        },
        "id": "kx1xXFw7CZl6",
        "outputId": "1e51dd2d-043b-41ec-b582-f9a0175e84fb"
      },
      "execution_count": 17,
      "outputs": [
        {
          "output_type": "stream",
          "name": "stdout",
          "text": [
            "Sample Input\n",
            "guvigeek\n",
            "Sample Output\n",
            "g\n",
            "u\n",
            "v\n",
            "i\n",
            "g\n",
            "e\n",
            "e\n",
            "k\n"
          ]
        }
      ]
    },
    {
      "cell_type": "code",
      "source": [
        "#10. Write a code to get the input in the given format and print the output in the given format.\n",
        "\n",
        "# Input Description:\n",
        "# A single line contains a string.\n",
        "\n",
        "# Output Description:\n",
        "# Print the characters in a string separated by comma.\n",
        "\n",
        "# Sample Input :\n",
        "# guvi\n",
        "# Sample Output :\n",
        "# g,u,v,i\n",
        "\n",
        "# print(\"Sample Input\")\n",
        "# a=input()\n",
        "# print(\"Sample Output\")\n",
        "# print(a,sep=\",\")\n",
        "a=input()\n",
        "print(\",\".join(a))"
      ],
      "metadata": {
        "colab": {
          "base_uri": "https://localhost:8080/"
        },
        "id": "JHfYSFHlFb36",
        "outputId": "2f4fd864-0672-4c00-bc48-605103bb1594"
      },
      "execution_count": 24,
      "outputs": [
        {
          "output_type": "stream",
          "name": "stdout",
          "text": [
            "guvi\n",
            "g,u,v,i\n"
          ]
        }
      ]
    },
    {
      "cell_type": "markdown",
      "source": [
        "# **absolute beginner**"
      ],
      "metadata": {
        "id": "s-rHe4thJHoG"
      }
    },
    {
      "cell_type": "code",
      "source": [
        "# 1.You are provided with a number, \"N\". Find its factorial.\n",
        "\n",
        "# Input Description:\n",
        "# A positive integer is provided as an input.\n",
        "\n",
        "# Output Description:\n",
        "# Print the factorial of the integer.\n",
        "\n",
        "# Sample Input :\n",
        "# 2\n",
        "# Sample Output :\n",
        "# 2\n",
        "\n",
        "a=int(input())\n",
        "print(a)"
      ],
      "metadata": {
        "colab": {
          "base_uri": "https://localhost:8080/"
        },
        "id": "BtY-1cdUK2LW",
        "outputId": "e9450eca-a6be-4970-91e9-a90e920242c2"
      },
      "execution_count": 35,
      "outputs": [
        {
          "output_type": "stream",
          "name": "stdout",
          "text": [
            "2\n",
            "2\n"
          ]
        }
      ]
    },
    {
      "cell_type": "code",
      "source": [
        "# 2.You are given Two Numbers, A and B. If C = A + B. Find C.\n",
        "\n",
        "# Note: Round off the output to a single decimal place.\n",
        "\n",
        "# Input Description:\n",
        "# You are provided with two numbers A and B.\n",
        "\n",
        "# Output Description:\n",
        "# Find the sum of the two numbers (A + B)\n",
        "\n",
        "# Sample Input :\n",
        "# 1\n",
        "# 1\n",
        "# Sample Output :\n",
        "# 2\n",
        "\n",
        "a=int(input())\n",
        "b=int(input())\n",
        "c=a+b\n",
        "print(c)"
      ],
      "metadata": {
        "colab": {
          "base_uri": "https://localhost:8080/"
        },
        "id": "QvrmS0X7LAMe",
        "outputId": "975e1132-2fd7-4c5c-a3cd-5c5ce35399fc"
      },
      "execution_count": 36,
      "outputs": [
        {
          "output_type": "stream",
          "name": "stdout",
          "text": [
            "1\n",
            "1\n",
            "2\n"
          ]
        }
      ]
    },
    {
      "cell_type": "code",
      "source": [
        "# 3.You are given A = Length of a rectangle & B = breadth of a rectangle. Find its area “C”.\n",
        "\n",
        "# (A and B are natural numbers)\n",
        "\n",
        "# Input Description:\n",
        "# The inputs are two natural numbers representing the length and the breadth of a rectangle.\n",
        "\n",
        "# Output Description:\n",
        "# Find the area of the rectangle formed by the provided input. Round off the answer to the first decimal place if required.\n",
        "\n",
        "# Sample Input :\n",
        "# 2\n",
        "# 3\n",
        "# Sample Output :\n",
        "# 6\n",
        "print(\"Sample input :\")\n",
        "length=int(input())\n",
        "breath=int(input())\n",
        "c=length*breath\n",
        "print(\"Sample Output :\")\n",
        "print(c)"
      ],
      "metadata": {
        "colab": {
          "base_uri": "https://localhost:8080/"
        },
        "id": "wp2vgrb_LY3Z",
        "outputId": "09935e00-5877-4e5a-be8d-89620702f52c"
      },
      "execution_count": 39,
      "outputs": [
        {
          "output_type": "stream",
          "name": "stdout",
          "text": [
            "Sample input :\n",
            "2\n",
            "3\n",
            "Sample Output :\n",
            "6\n"
          ]
        }
      ]
    },
    {
      "cell_type": "code",
      "source": [
        "# You will be provided with a number. Print the number of days in the month corresponding to that number.\n",
        "\n",
        "# Note: In case the input is February, print 28 days. If the Input is not in valid range print \"Error\".\n",
        "\n",
        "# Input Description:\n",
        "# The input is in the form of a number.\n",
        "\n",
        "# Output Description:\n",
        "# Find the days in the month corresponding to the input number. Print Error if the input is not in a valid range.\n",
        "\n",
        "# Sample Input :\n",
        "# 8\n",
        "# Sample Output :\n",
        "# 31\n",
        "\n",
        "a=int(input())\n",
        "\n",
        "if a==1:\n",
        "  print(31)\n",
        "if a==2:\n",
        "  print(28)\n",
        "if a==3:\n",
        "  print(31)\n",
        "if a==4:\n",
        "  print(30)\n",
        "if a==5:\n",
        "  print(31)\n",
        "if a==6:\n",
        "  print(30)\n",
        "if a==7:\n",
        "  print(31)\n",
        "if a==8:\n",
        "  print(31)\n",
        "if a==9:\n",
        "  print(30)\n",
        "if a==10:\n",
        "  print(31)\n",
        "if a==11:\n",
        "  print(30)\n",
        "if a==12:\n",
        "  print(31)\n",
        "if a>12:\n",
        "  print(\"Error\")\n"
      ],
      "metadata": {
        "colab": {
          "base_uri": "https://localhost:8080/"
        },
        "id": "99bEmWc9L_FP",
        "outputId": "976d7c30-ef04-4e10-cdd6-2354f48a5ffb"
      },
      "execution_count": 42,
      "outputs": [
        {
          "output_type": "stream",
          "name": "stdout",
          "text": [
            "13\n",
            "Error\n"
          ]
        }
      ]
    },
    {
      "cell_type": "code",
      "source": [
        "# 5.You are given with a number \"N\", find its cube.\n",
        "\n",
        "# Input Description:\n",
        "# A positive integer is provided.\n",
        "\n",
        "# Output Description:\n",
        "# Find the cube of the number.\n",
        "\n",
        "# Sample Input :\n",
        "# 2\n",
        "# Sample Output :\n",
        "# 8\n",
        "\n",
        "a=int(input())\n",
        "print(a**3)"
      ],
      "metadata": {
        "colab": {
          "base_uri": "https://localhost:8080/"
        },
        "id": "mRSqR3z6NQpv",
        "outputId": "0ad24e54-b186-4280-f5d5-43eb11562317"
      },
      "execution_count": 43,
      "outputs": [
        {
          "output_type": "stream",
          "name": "stdout",
          "text": [
            "2\n",
            "8\n"
          ]
        }
      ]
    },
    {
      "cell_type": "code",
      "source": [
        "# 6.You are given with Principle amount($), Interest Rate(%) and Time (years) in that order. Find Simple Interest.\n",
        "\n",
        "# Print the output up to two decimal places (Round-off if necessary).\n",
        "\n",
        "# (S.I. = P*T*R/100)\n",
        "\n",
        "# Input Description:\n",
        "# Three values are given to you as the input. these values correspond to Principle amount, Interest Rate and Time in that particular order.\n",
        "\n",
        "# Output Description:\n",
        "# Find the Simple interest and print it up to two decimal places. Round off if required.\n",
        "\n",
        "# Sample Input :\n",
        "# 1000 2 5\n",
        "# Sample Output :\n",
        "# 100.00\n",
        "\n",
        "\n",
        "P,T,R=map(float,input().split( ))\n",
        "\n",
        "SI=P*T*R/100\n",
        "\n",
        "result = format(SI, '.2f')\n",
        "print(result)\n"
      ],
      "metadata": {
        "colab": {
          "base_uri": "https://localhost:8080/"
        },
        "id": "D2btwIeINmm3",
        "outputId": "37bd5fec-719e-4b35-f38e-59ff46585108"
      },
      "execution_count": 14,
      "outputs": [
        {
          "output_type": "stream",
          "name": "stdout",
          "text": [
            "1000 2 5\n",
            "100.00\n"
          ]
        }
      ]
    },
    {
      "cell_type": "code",
      "source": [
        "# 7.You are provided with a number check whether its odd or even. \n",
        "\n",
        "# Print \"Odd\" or \"Even\" for the corresponding cases.\n",
        "\n",
        "# Note: In case of a decimal, Round off to nearest integer and then find the output. Incase the input is zero, print \"Zero\".\n",
        "\n",
        "# Input Description:\n",
        "# A number is provided as the input.\n",
        "\n",
        "# Output Description:\n",
        "# Find out whether the number is odd or even. Print \"Odd\" or \"Even\" for the corresponding cases. Note: In case of a decimal, Round off to nearest integer and then find the output. In case the input is zero, print \"Zero\".\n",
        "\n",
        "# Sample Input :\n",
        "# 2\n",
        "# Sample Output :\n",
        "# Even\n",
        "\n",
        "num = int(input())\n",
        "r_number=round(num)\n",
        "\n",
        "if r_number ==0:\n",
        "  print('Zero')  \n",
        "elif r_number%2==0:\n",
        "  print(\"Even\")\n",
        "else:\n",
        "  print(\"Odd\")  \n"
      ],
      "metadata": {
        "colab": {
          "base_uri": "https://localhost:8080/"
        },
        "id": "GjsyHdpfi0JV",
        "outputId": "b156171d-b792-4f20-f4f9-e17d7ca876e8"
      },
      "execution_count": 4,
      "outputs": [
        {
          "output_type": "stream",
          "name": "stdout",
          "text": [
            "3\n",
            "Odd\n"
          ]
        }
      ]
    },
    {
      "cell_type": "code",
      "source": [
        "# 8.You are provided with the radius of a circle \"A\". Find the length of its circumference.\n",
        "\n",
        "# Note: In case the output is coming in decimal, roundoff to 2nd decimal place. In case the input is a negative number, print \"Error\".\n",
        "\n",
        "# Input Description:\n",
        "# The Radius of a circle is provided as the input of the program.\n",
        "\n",
        "# Output Description:\n",
        "# Calculate and print the Circumference of the circle corresponding to the input radius up to two decimal places.\n",
        "\n",
        "# Sample Input :\n",
        "# 2\n",
        "# Sample Output :\n",
        "# 12.57\n",
        "\n",
        "import math\n",
        "r=float(input())\n",
        "\n",
        "if r<0:\n",
        "  print('Error')\n",
        "else:\n",
        "  circle=2*r*math.pi\n",
        "  round=format(circle,'.2f')\n",
        "  print(round)\n"
      ],
      "metadata": {
        "colab": {
          "base_uri": "https://localhost:8080/"
        },
        "id": "O9LxI-YClYz6",
        "outputId": "86284198-6481-4e86-df32-5520a2340644"
      },
      "execution_count": 6,
      "outputs": [
        {
          "output_type": "stream",
          "name": "stdout",
          "text": [
            "2\n",
            "12.57\n"
          ]
        }
      ]
    },
    {
      "cell_type": "code",
      "source": [
        "# 9.You are given three numbers A, B & C. Print the largest amongst these three numbers.\n",
        "\n",
        "# Input Description:\n",
        "# Three numbers are provided to you.\n",
        "\n",
        "# Output Description:\n",
        "# Find and print the largest among the three\n",
        "\n",
        "# Sample Input :\n",
        "# 1\n",
        "# 2\n",
        "# 3\n",
        "# Sample Output :\n",
        "# 3\n",
        "\n",
        "print(\"Sample Input: \")\n",
        "a=int(input())\n",
        "b=int(input())\n",
        "c=int(input())\n",
        "print(\"Sample Output: \")\n",
        "if a>=b and a>=c:\n",
        "  print(a)\n",
        "elif b>=a and b>=c:\n",
        "  print(b)\n",
        "else:\n",
        "  print(c)  \n"
      ],
      "metadata": {
        "colab": {
          "base_uri": "https://localhost:8080/"
        },
        "id": "k1oCEBVsmelL",
        "outputId": "48828070-f3b2-45d7-b2d0-01f750f2159b"
      },
      "execution_count": 10,
      "outputs": [
        {
          "output_type": "stream",
          "name": "stdout",
          "text": [
            "Sample Input: \n",
            "1\n",
            "2\n",
            "3\n",
            "Sample Output: \n",
            "3\n"
          ]
        }
      ]
    },
    {
      "cell_type": "code",
      "source": [
        "# 10.Using the method of looping, write a program to print the table of 9 till N in the format as follows:\n",
        "# (N is input by the user)\n",
        "\n",
        "# 9 18 27...\n",
        "\n",
        "# Print NULL if 0 is input\n",
        "\n",
        "# Input Description:\n",
        "# A positive integer is provided as an input.\n",
        "\n",
        "# Output Description:\n",
        "# Print the table of nine with single space between the elements till the number that is input.\n",
        "\n",
        "# Sample Input :\n",
        "# 3\n",
        "# Sample Output :\n",
        "# 9 18 27\n",
        "\n",
        "a=int(input())\n",
        "l=[]\n",
        "if a==0:\n",
        "  print(\"NULL\")\n",
        "else:\n",
        "  for i in range(1,a+1):\n",
        "    i=i*9\n",
        "    l.append(i)\n",
        "    # print(i*9)\n",
        "print(*l)\n"
      ],
      "metadata": {
        "id": "8kkgsBmo0d3h",
        "outputId": "2157dede-f918-4137-beaf-62d6ff70af78",
        "colab": {
          "base_uri": "https://localhost:8080/"
        }
      },
      "execution_count": 18,
      "outputs": [
        {
          "output_type": "stream",
          "name": "stdout",
          "text": [
            "3\n",
            "9 18 27\n"
          ]
        }
      ]
    },
    {
      "cell_type": "code",
      "source": [
        "# 11.Print the First 3 multiples of the given number \"N\". (N is a positive integer)\n",
        "\n",
        "# Note: print the characters with a single space between them.\n",
        "\n",
        "# Input Description:\n",
        "# A positive integer is provided to you as an input.\n",
        "\n",
        "# Output Description:\n",
        "# Print the First 3 multiples of the number with single spaces between them as an output.\n",
        "\n",
        "# Sample Input :\n",
        "# 2\n",
        "# Sample Output :\n",
        "# 2 4 6\n",
        "\n",
        "a=int(input())\n",
        "b=[]\n",
        "for i in range(1,4):\n",
        "  l=i*a\n",
        "  b.append(l)\n",
        "print(*b)  "
      ],
      "metadata": {
        "id": "1M-jlzyJ0d1L",
        "outputId": "bf79114f-3236-4f1c-a55e-1e298cffa3c3",
        "colab": {
          "base_uri": "https://localhost:8080/"
        }
      },
      "execution_count": 4,
      "outputs": [
        {
          "output_type": "stream",
          "name": "stdout",
          "text": [
            "2\n",
            "2 4 6\n"
          ]
        }
      ]
    },
    {
      "cell_type": "code",
      "source": [
        "# 12.Let \"A\" be a year, write a program to check whether this year is a leap year or not.\n",
        "\n",
        "# Print \"Y\" if its a leap year and \"N\" if its a common year.\n",
        "\n",
        "# Input Description:\n",
        "# A Year is the input in the form of a positive integer.\n",
        "\n",
        "# Output Description:\n",
        "# Print \"Y\" if its a leap year and \"N\" if its a common year.\n",
        "\n",
        "# Sample Input :\n",
        "# 2020\n",
        "# Sample Output :\n",
        "# # Y\n",
        "\n",
        "year = int(input())\n",
        "\n",
        "if year % 4 == 0:\n",
        "    if year % 100 == 0:\n",
        "        if year % 400 == 0:\n",
        "            print(\"Y\")\n",
        "        else:\n",
        "            print(\"N\")\n",
        "    else:\n",
        "        print(\"Y\")\n",
        "else:\n",
        "    print(\"N\")"
      ],
      "metadata": {
        "id": "Np02tpaK0dyp",
        "outputId": "f7f4f0d1-275e-4282-f0c2-44f29727c147",
        "colab": {
          "base_uri": "https://localhost:8080/"
        }
      },
      "execution_count": 9,
      "outputs": [
        {
          "output_type": "stream",
          "name": "stdout",
          "text": [
            "2020\n",
            "Y\n"
          ]
        }
      ]
    },
    {
      "cell_type": "code",
      "source": [
        "13."
      ],
      "metadata": {
        "id": "hxkQ1GY60dvV"
      },
      "execution_count": null,
      "outputs": []
    },
    {
      "cell_type": "code",
      "source": [
        "14."
      ],
      "metadata": {
        "id": "Le5S28cZ0drv"
      },
      "execution_count": null,
      "outputs": []
    },
    {
      "cell_type": "code",
      "source": [
        "15."
      ],
      "metadata": {
        "id": "F1zDygHD0dlX"
      },
      "execution_count": null,
      "outputs": []
    },
    {
      "cell_type": "code",
      "source": [
        "16."
      ],
      "metadata": {
        "id": "JKOx0bY60da0"
      },
      "execution_count": null,
      "outputs": []
    },
    {
      "cell_type": "code",
      "source": [
        "17"
      ],
      "metadata": {
        "id": "Sh7GfjR-0dPK"
      },
      "execution_count": null,
      "outputs": []
    },
    {
      "cell_type": "code",
      "source": [
        "#30. Write a code to get the input and print it 5 times.\n",
        "\n",
        "# Input Description:\n",
        "# A single line contains an integer N.\n",
        "\n",
        "# Output Description:\n",
        "# Output contains 5 lines with each line having the value N.\n",
        "\n",
        "# Sample Input :\n",
        "# 4\n",
        "# Sample Output :\n",
        "# 4\n",
        "# 4\n",
        "# 4\n",
        "# 4\n",
        "# 4\n",
        "\n",
        "a=input(\"sample input:\")\n",
        "print(\"sample output:\")\n",
        "for i in range(5):\n",
        "  print(a)"
      ],
      "metadata": {
        "colab": {
          "base_uri": "https://localhost:8080/"
        },
        "id": "gXI3FrShFnwY",
        "outputId": "91d41a35-ec55-4da8-b274-3817598ab8c3"
      },
      "execution_count": 34,
      "outputs": [
        {
          "output_type": "stream",
          "name": "stdout",
          "text": [
            "sample input:4\n",
            "sample output:\n",
            "4\n",
            "4\n",
            "4\n",
            "4\n",
            "4\n"
          ]
        }
      ]
    },
    {
      "cell_type": "code",
      "source": [],
      "metadata": {
        "id": "FeQAnJ9SKyVj"
      },
      "execution_count": null,
      "outputs": []
    }
  ]
}