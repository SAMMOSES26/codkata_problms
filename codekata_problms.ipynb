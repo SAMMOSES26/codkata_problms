{
  "nbformat": 4,
  "nbformat_minor": 0,
  "metadata": {
    "colab": {
      "provenance": [],
      "authorship_tag": "ABX9TyO7iczgE4lEhc3+VWt+HoVR",
      "include_colab_link": true
    },
    "kernelspec": {
      "name": "python3",
      "display_name": "Python 3"
    },
    "language_info": {
      "name": "python"
    }
  },
  "cells": [
    {
      "cell_type": "markdown",
      "metadata": {
        "id": "view-in-github",
        "colab_type": "text"
      },
      "source": [
        "<a href=\"https://colab.research.google.com/github/SAMMOSES26/codkata_problms/blob/main/codekata_problms.ipynb\" target=\"_parent\"><img src=\"https://colab.research.google.com/assets/colab-badge.svg\" alt=\"Open In Colab\"/></a>"
      ]
    },
    {
      "cell_type": "code",
      "execution_count": null,
      "metadata": {
        "colab": {
          "base_uri": "https://localhost:8080/"
        },
        "id": "8Osyf961MWAx",
        "outputId": "56443e00-a59f-4850-9fbb-7ac6440ff025"
      },
      "outputs": [
        {
          "output_type": "stream",
          "name": "stdout",
          "text": [
            "Sample Input: 2\n",
            "Sample Output: 2\n"
          ]
        }
      ],
      "source": [
        "# 1. Write a code to get the input in the given format and print the output in the given format\n",
        "\n",
        "# Input Description:\n",
        "# To take an integer value\n",
        "\n",
        "# Output Description:\n",
        "# Print the integer value\n",
        "\n",
        "# Sample Input :\n",
        "# 2\n",
        "\n",
        "# Sample Output :\n",
        "# 2\n",
        "\n",
        "a=int(input(\"Sample Input: \" ))\n",
        "print(\"Sample Output:\", a)"
      ]
    },
    {
      "cell_type": "code",
      "source": [
        "# 2. Write a code to get the input in the given format and print the output in the given format\n",
        "\n",
        "# Input Description:\n",
        "# A single line contains integers separated by space\n",
        "\n",
        "# Output Description:\n",
        "# Print the integer list of integers separated by space\n",
        "\n",
        "# Sample Input :\n",
        "# 2 3 4 5 6 7 8\n",
        "\n",
        "# Sample Output :\n",
        "# # 2 3 4 5 6 7 8\n",
        "\n",
        "a=list(map(int,input(\"Sample Input: \" ).split(\" \")))\n",
        "print(\"Sample Output:\", *a)"
      ],
      "metadata": {
        "colab": {
          "base_uri": "https://localhost:8080/"
        },
        "id": "WCldvCQrNW2Y",
        "outputId": "46140ee9-ca4e-4594-96f1-0f7bc329b88e"
      },
      "execution_count": null,
      "outputs": [
        {
          "output_type": "stream",
          "name": "stdout",
          "text": [
            "Sample Input: 2 3 44\n",
            "Sample Output: 2 3 44\n"
          ]
        }
      ]
    },
    {
      "cell_type": "code",
      "source": [
        "# 3. Write a code to get the input in the given format and print the output in the given format.\n",
        "\n",
        "# Input Description:\n",
        "# First-line indicates two integers which are the size of array and 'K' value. Second-line indicates an integer contains elements of an array.\n",
        "\n",
        "# Output Description:\n",
        "# Print the taken input in the same format.\n",
        "\n",
        "# Sample Input :\n",
        "# 5 3\n",
        "# 1 2 3 4 5\n",
        "# Sample Output :\n",
        "# 5 3\n",
        "# 1 2 3 4 5\n",
        "\n",
        "a=list(map(int,input(\"Sample Input: \").split(\" \")))\n",
        "b=list(map(int,input(\"Sample Input: \").split(\" \")))\n",
        "print(\"Sample Output :\",*a)\n",
        "print(\"Sample Output :\",*b)"
      ],
      "metadata": {
        "colab": {
          "base_uri": "https://localhost:8080/"
        },
        "id": "CKXnEI7jNZzp",
        "outputId": "94447ab1-c916-4908-bace-3b37ba46f0a8"
      },
      "execution_count": 4,
      "outputs": [
        {
          "output_type": "stream",
          "name": "stdout",
          "text": [
            "Sample Input: 5 3\n",
            "Sample Input: 1 2 3 4 5\n",
            "Sample Output : 5 3\n",
            "Sample Output : 1 2 3 4 5\n"
          ]
        }
      ]
    },
    {
      "cell_type": "code",
      "source": [
        "# Write a code to get the input in the given format and print the output in the given format\n",
        "\n",
        "# Input Description:\n",
        "# First-line indicates two integers separated by space. Second-line indicates two integers separated by space. Third-line indicates two integers separated by space.\n",
        "\n",
        "# Output Description:\n",
        "# Print the input in the same format.\n",
        "\n",
        "# Sample Input :\n",
        "# 2 4\n",
        "# 2 4\n",
        "# 2 4\n",
        "# Sample Output :\n",
        "# 2 4\n",
        "# 2 4\n",
        "# 2 4\n",
        "\n",
        "a=list(map(int,input(\"Sample Input: \").split(\" \")))\n",
        "b=list(map(int,input(\"Sample Input: \").split(\" \")))\n",
        "c=list(map(int,input(\"Sample Input: \").split(\" \")))\n",
        "print(\"Sample Output :\",*a)\n",
        "print(\"Sample Output :\",*b)\n",
        "print(\"Sample Output :\",*c)"
      ],
      "metadata": {
        "colab": {
          "base_uri": "https://localhost:8080/"
        },
        "id": "DGk1fglEPMo-",
        "outputId": "f6715021-b304-4eee-8a8c-4b294ec00523"
      },
      "execution_count": 5,
      "outputs": [
        {
          "output_type": "stream",
          "name": "stdout",
          "text": [
            "Sample Input: 2 4\n",
            "Sample Input: 2 4\n",
            "Sample Input: 2 4\n",
            "Sample Output : 2 4\n",
            "Sample Output : 2 4\n",
            "Sample Output : 2 4\n"
          ]
        }
      ]
    },
    {
      "cell_type": "code",
      "source": [
        "# Write a code to get the input in the given format and print the output in the given format\n",
        "\n",
        "# Input Description:\n",
        "# Three integers are given in line by line.\n",
        "\n",
        "# Output Description:\n",
        "# Print the integers in a single line separate by space.\n",
        "\n",
        "# Sample Input :\n",
        "# 2\n",
        "# 4\n",
        "# 5\n",
        "# Sample Output :\n",
        "# 2 4 5\n",
        "\n",
        "a=int(input(\"Sample Input: \" ))\n",
        "b=int(input(\"Sample Input: \" ))\n",
        "c=int(input(\"Sample Input: \" ))\n",
        "print(\"Sample Output :\",a,b,c)\n",
        "# type(a)"
      ],
      "metadata": {
        "colab": {
          "base_uri": "https://localhost:8080/"
        },
        "id": "HUi2fZN_PqBr",
        "outputId": "ff926752-8112-46b3-c44a-4fcbaf1b3bae"
      },
      "execution_count": 12,
      "outputs": [
        {
          "output_type": "stream",
          "name": "stdout",
          "text": [
            "Sample Input: 2\n",
            "Sample Input: 4\n",
            "Sample Input: 5\n",
            "Sample Output : 2 4 5\n"
          ]
        }
      ]
    },
    {
      "cell_type": "code",
      "source": [
        "# Write a code to get the input in the given format and print the output in the given format\n",
        "\n",
        "# Input Description:\n",
        "# First-line indicates two integers separated by space. Second-line indicates three integers separated by space. Third-line indicates three integers separated by space\n",
        "\n",
        "# Output Description:\n",
        "# Print the input in the same format.\n",
        "\n",
        "# Sample Input :\n",
        "# 2 5\n",
        "# 2 5 6\n",
        "# 2 4 5\n",
        "# Sample Output :\n",
        "# 2 5\n",
        "# 2 5 6\n",
        "# 2 4 5\n",
        "\n",
        "a=list(map(int,input(\"Sample Input: \").split(\" \")))\n",
        "b=list(map(int,input(\"Sample Input: \").split(\" \")))\n",
        "c=list(map(int,input(\"Sample Input: \").split(\" \")))\n",
        "print(\"Sample Output :\",*a)\n",
        "print(\"Sample Output :\",*b)\n",
        "print(\"Sample Output :\",*c)"
      ],
      "metadata": {
        "id": "L2XKT8GKQ6RS",
        "outputId": "b7e17bc0-fbe8-459e-d79f-feca1d6c183a",
        "colab": {
          "base_uri": "https://localhost:8080/"
        }
      },
      "execution_count": 13,
      "outputs": [
        {
          "output_type": "stream",
          "name": "stdout",
          "text": [
            "Sample Input: 2 5\n",
            "Sample Input: 2 5 6\n",
            "Sample Input: 2 4 5\n",
            "Sample Output : 2 5\n",
            "Sample Output : 2 5 6\n",
            "Sample Output : 2 4 5\n"
          ]
        }
      ]
    }
  ]
}