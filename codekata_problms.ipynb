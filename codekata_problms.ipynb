{
  "nbformat": 4,
  "nbformat_minor": 0,
  "metadata": {
    "colab": {
      "provenance": [],
      "authorship_tag": "ABX9TyOFU6AmVPr2mnhkIcXrKAob",
      "include_colab_link": true
    },
    "kernelspec": {
      "name": "python3",
      "display_name": "Python 3"
    },
    "language_info": {
      "name": "python"
    }
  },
  "cells": [
    {
      "cell_type": "markdown",
      "metadata": {
        "id": "view-in-github",
        "colab_type": "text"
      },
      "source": [
        "<a href=\"https://colab.research.google.com/github/SAMMOSES26/codkata_problms/blob/main/codekata_problms.ipynb\" target=\"_parent\"><img src=\"https://colab.research.google.com/assets/colab-badge.svg\" alt=\"Open In Colab\"/></a>"
      ]
    },
    {
      "cell_type": "markdown",
      "source": [
        "# **Input/Output**"
      ],
      "metadata": {
        "id": "zd5RY1DkSat4"
      }
    },
    {
      "cell_type": "code",
      "execution_count": null,
      "metadata": {
        "colab": {
          "base_uri": "https://localhost:8080/"
        },
        "id": "8Osyf961MWAx",
        "outputId": "56443e00-a59f-4850-9fbb-7ac6440ff025"
      },
      "outputs": [
        {
          "output_type": "stream",
          "name": "stdout",
          "text": [
            "Sample Input: 2\n",
            "Sample Output: 2\n"
          ]
        }
      ],
      "source": [
        "# 1. Write a code to get the input in the given format and print the output in the given format\n",
        "\n",
        "# Input Description:\n",
        "# To take an integer value\n",
        "\n",
        "# Output Description:\n",
        "# Print the integer value\n",
        "\n",
        "# Sample Input :\n",
        "# 2\n",
        "\n",
        "# Sample Output :\n",
        "# 2\n",
        "\n",
        "a=int(input(\"Sample Input: \" ))\n",
        "print(\"Sample Output:\", a)"
      ]
    },
    {
      "cell_type": "code",
      "source": [
        "# 2. Write a code to get the input in the given format and print the output in the given format\n",
        "\n",
        "# Input Description:\n",
        "# A single line contains integers separated by space\n",
        "\n",
        "# Output Description:\n",
        "# Print the integer list of integers separated by space\n",
        "\n",
        "# Sample Input :\n",
        "# 2 3 4 5 6 7 8\n",
        "\n",
        "# Sample Output :\n",
        "# # 2 3 4 5 6 7 8\n",
        "\n",
        "a=list(map(int,input(\"Sample Input: \" ).split(\" \")))\n",
        "print(\"Sample Output:\", *a)"
      ],
      "metadata": {
        "colab": {
          "base_uri": "https://localhost:8080/"
        },
        "id": "WCldvCQrNW2Y",
        "outputId": "dba239cf-2619-4f90-ace7-1c3fa6880fae"
      },
      "execution_count": null,
      "outputs": [
        {
          "output_type": "stream",
          "name": "stdout",
          "text": [
            "Sample Input: 2 3 4 5 6 7 8\n",
            "Sample Output: 2 3 4 5 6 7 8\n"
          ]
        }
      ]
    },
    {
      "cell_type": "code",
      "source": [
        "# 3. Write a code to get the input in the given format and print the output in the given format.\n",
        "\n",
        "# Input Description:\n",
        "# First-line indicates two integers which are the size of array and 'K' value. Second-line indicates an integer contains elements of an array.\n",
        "\n",
        "# Output Description:\n",
        "# Print the taken input in the same format.\n",
        "\n",
        "# Sample Input :\n",
        "# 5 3\n",
        "# 1 2 3 4 5\n",
        "# Sample Output :\n",
        "# 5 3\n",
        "# 1 2 3 4 5\n",
        "print(\"Sample Input: \")\n",
        "a=list(map(int,input().split(\" \")))\n",
        "b=list(map(int,input().split(\" \")))\n",
        "print(\"Sample Output: \")\n",
        "print(*a)\n",
        "print(*b)"
      ],
      "metadata": {
        "colab": {
          "base_uri": "https://localhost:8080/"
        },
        "id": "CKXnEI7jNZzp",
        "outputId": "96ba6122-8edf-4c07-b2b9-31e4be2f3e68"
      },
      "execution_count": null,
      "outputs": [
        {
          "output_type": "stream",
          "name": "stdout",
          "text": [
            "Sample Input: \n",
            "5 3\n",
            "1 2 3 4 5\n",
            "Sample Output: \n",
            "5 3\n",
            "1 2 3 4 5\n"
          ]
        }
      ]
    },
    {
      "cell_type": "code",
      "source": [
        "#4.  Write a code to get the input in the given format and print the output in the given format\n",
        "\n",
        "# Input Description:\n",
        "# First-line indicates two integers separated by space. Second-line indicates two integers separated by space. Third-line indicates two integers separated by space.\n",
        "\n",
        "# Output Description:\n",
        "# Print the input in the same format.\n",
        "\n",
        "# Sample Input :\n",
        "# 2 4\n",
        "# 2 4\n",
        "# 2 4\n",
        "# Sample Output :\n",
        "# 2 4\n",
        "# 2 4\n",
        "# 2 4\n",
        "print(\"Sample Input: \")\n",
        "a=list(map(int,input().split(\" \")))\n",
        "b=list(map(int,input().split(\" \")))\n",
        "c=list(map(int,input().split(\" \")))\n",
        "print(\"Sample Output: \")\n",
        "print(*a)\n",
        "print(*b)\n",
        "print(*c)"
      ],
      "metadata": {
        "colab": {
          "base_uri": "https://localhost:8080/"
        },
        "id": "DGk1fglEPMo-",
        "outputId": "e39783ef-4358-4efe-aa46-0d0878bc6750"
      },
      "execution_count": null,
      "outputs": [
        {
          "output_type": "stream",
          "name": "stdout",
          "text": [
            "Sample Input: \n",
            "2 4\n",
            "2 4\n",
            "2 4\n",
            "Sample Output: \n",
            "2 4\n",
            "2 4\n",
            "2 4\n"
          ]
        }
      ]
    },
    {
      "cell_type": "code",
      "source": [
        "# 5. Write a code to get the input in the given format and print the output in the given format\n",
        "\n",
        "# Input Description:\n",
        "# Three integers are given in line by line.\n",
        "\n",
        "# Output Description:\n",
        "# Print the integers in a single line separate by space.\n",
        "\n",
        "# Sample Input :\n",
        "# 2\n",
        "# 4\n",
        "# 5\n",
        "# Sample Output :\n",
        "# 2 4 5\n",
        "print(\"Sample input: \")\n",
        "a=int(input())\n",
        "b=int(input())\n",
        "c=int(input())\n",
        "print(\"Sample Output: \")\n",
        "print(a,b,c)\n",
        "# type(a)"
      ],
      "metadata": {
        "colab": {
          "base_uri": "https://localhost:8080/"
        },
        "id": "HUi2fZN_PqBr",
        "outputId": "f3321afa-eea5-4693-a371-71058b322927"
      },
      "execution_count": null,
      "outputs": [
        {
          "output_type": "stream",
          "name": "stdout",
          "text": [
            "Sample input: \n",
            "2\n",
            "4\n",
            "5\n",
            "Sample Output: \n",
            "2 4 5\n"
          ]
        }
      ]
    },
    {
      "cell_type": "code",
      "source": [
        "# 6. Write a code to get the input in the given format and print the output in the given format\n",
        "\n",
        "# Input Description:\n",
        "# First-line indicates two integers separated by space. Second-line indicates three integers separated by space. Third-line indicates three integers separated by space\n",
        "\n",
        "# Output Description:\n",
        "# Print the input in the same format.\n",
        "\n",
        "# Sample Input :\n",
        "# 2 5\n",
        "# 2 5 6\n",
        "# 2 4 5\n",
        "# Sample Output :\n",
        "# 2 5\n",
        "# 2 5 6\n",
        "# 2 4 5\n",
        "print(\"Sample input: \")\n",
        "a=list(map(int,input().split(\" \")))\n",
        "b=list(map(int,input().split(\" \")))\n",
        "c=list(map(int,input().split(\" \")))\n",
        "print(\"Sample Output: \")\n",
        "print(*a)\n",
        "print(*b)\n",
        "print(*c)"
      ],
      "metadata": {
        "colab": {
          "base_uri": "https://localhost:8080/"
        },
        "id": "L2XKT8GKQ6RS",
        "outputId": "821ce0c2-5f73-4f8f-f7bb-686f6dffd7ae"
      },
      "execution_count": null,
      "outputs": [
        {
          "output_type": "stream",
          "name": "stdout",
          "text": [
            "Sample input: \n",
            "2 5\n",
            "2 5 6\n",
            "2 4 5\n",
            "Sample Output: \n",
            "2 5\n",
            "2 5 6\n",
            "2 4 5\n"
          ]
        }
      ]
    },
    {
      "cell_type": "code",
      "source": [
        "# 7. Write a code to get the input in the given format and print the output in the given format\n",
        "\n",
        "# Input Description:\n",
        "# A single line contains a string.\n",
        "\n",
        "# Output Description:\n",
        "# Print the characters in a string separated by space.\n",
        "\n",
        "# Sample Input :\n",
        "# guvi\n",
        "# Sample Output :\n",
        "# g u v i\n",
        "\n",
        "a=input()\n",
        "\n",
        "print(*a)"
      ],
      "metadata": {
        "colab": {
          "base_uri": "https://localhost:8080/"
        },
        "id": "-b30rhjBRSwF",
        "outputId": "3c7abe55-dd33-459b-b3ae-35c5f7e21b90"
      },
      "execution_count": null,
      "outputs": [
        {
          "output_type": "stream",
          "name": "stdout",
          "text": [
            "sam\n",
            "s a m\n"
          ]
        }
      ]
    },
    {
      "cell_type": "code",
      "source": [
        "# 8. Write a code to get the input in the given format and print the output in the given format.\n",
        "\n",
        "# Input Description:\n",
        "# A single line contains three float values separated by space.\n",
        "\n",
        "# Output Description:\n",
        "# Print the float value separated by line.\n",
        "\n",
        "# Sample Input :\n",
        "# 2.3 4.5 7.8\n",
        "# Sample Output :\n",
        "# 2.3\n",
        "# 4.5\n",
        "# 7.8\n",
        "\n",
        "a=input().split(\" \")\n",
        "\n",
        "for i in a:\n",
        "  print(i)"
      ],
      "metadata": {
        "colab": {
          "base_uri": "https://localhost:8080/"
        },
        "id": "lVleN_aUSVnD",
        "outputId": "3d0d487b-5dfd-439b-fa1f-3e88d3eb94dc"
      },
      "execution_count": null,
      "outputs": [
        {
          "output_type": "stream",
          "name": "stdout",
          "text": [
            "2.3 4.5 7.8\n",
            "2.3\n",
            "4.5\n",
            "7.8\n"
          ]
        }
      ]
    },
    {
      "cell_type": "code",
      "source": [
        "# 9.Write a code to get the input in the given format and print the output in the given format.\n",
        "\n",
        "# Input Description:\n",
        "# A single line contains a string.\n",
        "\n",
        "# Output Description:\n",
        "# Print the characters in a string separated by line.\n",
        "\n",
        "# Sample Input :\n",
        "# guvigeek\n",
        "# Sample Output :\n",
        "# g\n",
        "# u\n",
        "# v\n",
        "# i\n",
        "# g\n",
        "# e\n",
        "# e\n",
        "# k\n",
        "print(\"Sample Input\")\n",
        "a=input()\n",
        "print(\"Sample Output\")\n",
        "for i in a:\n",
        "  print(i)\n"
      ],
      "metadata": {
        "colab": {
          "base_uri": "https://localhost:8080/"
        },
        "id": "kx1xXFw7CZl6",
        "outputId": "1e51dd2d-043b-41ec-b582-f9a0175e84fb"
      },
      "execution_count": null,
      "outputs": [
        {
          "output_type": "stream",
          "name": "stdout",
          "text": [
            "Sample Input\n",
            "guvigeek\n",
            "Sample Output\n",
            "g\n",
            "u\n",
            "v\n",
            "i\n",
            "g\n",
            "e\n",
            "e\n",
            "k\n"
          ]
        }
      ]
    },
    {
      "cell_type": "code",
      "source": [
        "#10. Write a code to get the input in the given format and print the output in the given format.\n",
        "\n",
        "# Input Description:\n",
        "# A single line contains a string.\n",
        "\n",
        "# Output Description:\n",
        "# Print the characters in a string separated by comma.\n",
        "\n",
        "# Sample Input :\n",
        "# guvi\n",
        "# Sample Output :\n",
        "# g,u,v,i\n",
        "\n",
        "# print(\"Sample Input\")\n",
        "# a=input()\n",
        "# print(\"Sample Output\")\n",
        "# print(a,sep=\",\")\n",
        "a=input()\n",
        "print(\",\".join(a))"
      ],
      "metadata": {
        "colab": {
          "base_uri": "https://localhost:8080/"
        },
        "id": "JHfYSFHlFb36",
        "outputId": "2f4fd864-0672-4c00-bc48-605103bb1594"
      },
      "execution_count": null,
      "outputs": [
        {
          "output_type": "stream",
          "name": "stdout",
          "text": [
            "guvi\n",
            "g,u,v,i\n"
          ]
        }
      ]
    },
    {
      "cell_type": "markdown",
      "source": [
        "# **absolute beginner**"
      ],
      "metadata": {
        "id": "s-rHe4thJHoG"
      }
    },
    {
      "cell_type": "code",
      "source": [
        "# 1.You are provided with a number, \"N\". Find its factorial.\n",
        "\n",
        "# Input Description:\n",
        "# A positive integer is provided as an input.\n",
        "\n",
        "# Output Description:\n",
        "# Print the factorial of the integer.\n",
        "\n",
        "# Sample Input :\n",
        "# 2\n",
        "# Sample Output :\n",
        "# 2\n",
        "\n",
        "a=int(input())\n",
        "print(a)"
      ],
      "metadata": {
        "colab": {
          "base_uri": "https://localhost:8080/"
        },
        "id": "BtY-1cdUK2LW",
        "outputId": "e9450eca-a6be-4970-91e9-a90e920242c2"
      },
      "execution_count": null,
      "outputs": [
        {
          "output_type": "stream",
          "name": "stdout",
          "text": [
            "2\n",
            "2\n"
          ]
        }
      ]
    },
    {
      "cell_type": "code",
      "source": [
        "# 2.You are given Two Numbers, A and B. If C = A + B. Find C.\n",
        "\n",
        "# Note: Round off the output to a single decimal place.\n",
        "\n",
        "# Input Description:\n",
        "# You are provided with two numbers A and B.\n",
        "\n",
        "# Output Description:\n",
        "# Find the sum of the two numbers (A + B)\n",
        "\n",
        "# Sample Input :\n",
        "# 1\n",
        "# 1\n",
        "# Sample Output :\n",
        "# 2\n",
        "\n",
        "a=int(input())\n",
        "b=int(input())\n",
        "c=a+b\n",
        "print(c)"
      ],
      "metadata": {
        "colab": {
          "base_uri": "https://localhost:8080/"
        },
        "id": "QvrmS0X7LAMe",
        "outputId": "975e1132-2fd7-4c5c-a3cd-5c5ce35399fc"
      },
      "execution_count": null,
      "outputs": [
        {
          "output_type": "stream",
          "name": "stdout",
          "text": [
            "1\n",
            "1\n",
            "2\n"
          ]
        }
      ]
    },
    {
      "cell_type": "code",
      "source": [
        "# 3.You are given A = Length of a rectangle & B = breadth of a rectangle. Find its area “C”.\n",
        "\n",
        "# (A and B are natural numbers)\n",
        "\n",
        "# Input Description:\n",
        "# The inputs are two natural numbers representing the length and the breadth of a rectangle.\n",
        "\n",
        "# Output Description:\n",
        "# Find the area of the rectangle formed by the provided input. Round off the answer to the first decimal place if required.\n",
        "\n",
        "# Sample Input :\n",
        "# 2\n",
        "# 3\n",
        "# Sample Output :\n",
        "# 6\n",
        "print(\"Sample input :\")\n",
        "length=int(input())\n",
        "breath=int(input())\n",
        "c=length*breath\n",
        "print(\"Sample Output :\")\n",
        "print(c)"
      ],
      "metadata": {
        "colab": {
          "base_uri": "https://localhost:8080/"
        },
        "id": "wp2vgrb_LY3Z",
        "outputId": "09935e00-5877-4e5a-be8d-89620702f52c"
      },
      "execution_count": null,
      "outputs": [
        {
          "output_type": "stream",
          "name": "stdout",
          "text": [
            "Sample input :\n",
            "2\n",
            "3\n",
            "Sample Output :\n",
            "6\n"
          ]
        }
      ]
    },
    {
      "cell_type": "code",
      "source": [
        "# You will be provided with a number. Print the number of days in the month corresponding to that number.\n",
        "\n",
        "# Note: In case the input is February, print 28 days. If the Input is not in valid range print \"Error\".\n",
        "\n",
        "# Input Description:\n",
        "# The input is in the form of a number.\n",
        "\n",
        "# Output Description:\n",
        "# Find the days in the month corresponding to the input number. Print Error if the input is not in a valid range.\n",
        "\n",
        "# Sample Input :\n",
        "# 8\n",
        "# Sample Output :\n",
        "# 31\n",
        "\n",
        "a=int(input())\n",
        "\n",
        "if a==1:\n",
        "  print(31)\n",
        "if a==2:\n",
        "  print(28)\n",
        "if a==3:\n",
        "  print(31)\n",
        "if a==4:\n",
        "  print(30)\n",
        "if a==5:\n",
        "  print(31)\n",
        "if a==6:\n",
        "  print(30)\n",
        "if a==7:\n",
        "  print(31)\n",
        "if a==8:\n",
        "  print(31)\n",
        "if a==9:\n",
        "  print(30)\n",
        "if a==10:\n",
        "  print(31)\n",
        "if a==11:\n",
        "  print(30)\n",
        "if a==12:\n",
        "  print(31)\n",
        "if a>12:\n",
        "  print(\"Error\")\n"
      ],
      "metadata": {
        "colab": {
          "base_uri": "https://localhost:8080/"
        },
        "id": "99bEmWc9L_FP",
        "outputId": "976d7c30-ef04-4e10-cdd6-2354f48a5ffb"
      },
      "execution_count": null,
      "outputs": [
        {
          "output_type": "stream",
          "name": "stdout",
          "text": [
            "13\n",
            "Error\n"
          ]
        }
      ]
    },
    {
      "cell_type": "code",
      "source": [
        "# 5.You are given with a number \"N\", find its cube.\n",
        "\n",
        "# Input Description:\n",
        "# A positive integer is provided.\n",
        "\n",
        "# Output Description:\n",
        "# Find the cube of the number.\n",
        "\n",
        "# Sample Input :\n",
        "# 2\n",
        "# Sample Output :\n",
        "# 8\n",
        "\n",
        "a=int(input())\n",
        "print(a**3)"
      ],
      "metadata": {
        "colab": {
          "base_uri": "https://localhost:8080/"
        },
        "id": "mRSqR3z6NQpv",
        "outputId": "0ad24e54-b186-4280-f5d5-43eb11562317"
      },
      "execution_count": null,
      "outputs": [
        {
          "output_type": "stream",
          "name": "stdout",
          "text": [
            "2\n",
            "8\n"
          ]
        }
      ]
    },
    {
      "cell_type": "code",
      "source": [
        "# 6.You are given with Principle amount($), Interest Rate(%) and Time (years) in that order. Find Simple Interest.\n",
        "\n",
        "# Print the output up to two decimal places (Round-off if necessary).\n",
        "\n",
        "# (S.I. = P*T*R/100)\n",
        "\n",
        "# Input Description:\n",
        "# Three values are given to you as the input. these values correspond to Principle amount, Interest Rate and Time in that particular order.\n",
        "\n",
        "# Output Description:\n",
        "# Find the Simple interest and print it up to two decimal places. Round off if required.\n",
        "\n",
        "# Sample Input :\n",
        "# 1000 2 5\n",
        "# Sample Output :\n",
        "# 100.00\n",
        "\n",
        "\n",
        "P,T,R=map(float,input().split( ))\n",
        "\n",
        "SI=P*T*R/100\n",
        "\n",
        "result = format(SI, '.2f')\n",
        "print(result)\n"
      ],
      "metadata": {
        "colab": {
          "base_uri": "https://localhost:8080/"
        },
        "id": "D2btwIeINmm3",
        "outputId": "37bd5fec-719e-4b35-f38e-59ff46585108"
      },
      "execution_count": null,
      "outputs": [
        {
          "output_type": "stream",
          "name": "stdout",
          "text": [
            "1000 2 5\n",
            "100.00\n"
          ]
        }
      ]
    },
    {
      "cell_type": "code",
      "source": [
        "# 7.You are provided with a number check whether its odd or even. \n",
        "\n",
        "# Print \"Odd\" or \"Even\" for the corresponding cases.\n",
        "\n",
        "# Note: In case of a decimal, Round off to nearest integer and then find the output. Incase the input is zero, print \"Zero\".\n",
        "\n",
        "# Input Description:\n",
        "# A number is provided as the input.\n",
        "\n",
        "# Output Description:\n",
        "# Find out whether the number is odd or even. Print \"Odd\" or \"Even\" for the corresponding cases. Note: In case of a decimal, Round off to nearest integer and then find the output. In case the input is zero, print \"Zero\".\n",
        "\n",
        "# Sample Input :\n",
        "# 2\n",
        "# Sample Output :\n",
        "# Even\n",
        "\n",
        "num = int(input())\n",
        "r_number=round(num)\n",
        "\n",
        "if r_number ==0:\n",
        "  print('Zero')  \n",
        "elif r_number%2==0:\n",
        "  print(\"Even\")\n",
        "else:\n",
        "  print(\"Odd\")  \n"
      ],
      "metadata": {
        "colab": {
          "base_uri": "https://localhost:8080/"
        },
        "id": "GjsyHdpfi0JV",
        "outputId": "b156171d-b792-4f20-f4f9-e17d7ca876e8"
      },
      "execution_count": null,
      "outputs": [
        {
          "output_type": "stream",
          "name": "stdout",
          "text": [
            "3\n",
            "Odd\n"
          ]
        }
      ]
    },
    {
      "cell_type": "code",
      "source": [
        "# 8.You are provided with the radius of a circle \"A\". Find the length of its circumference.\n",
        "\n",
        "# Note: In case the output is coming in decimal, roundoff to 2nd decimal place. In case the input is a negative number, print \"Error\".\n",
        "\n",
        "# Input Description:\n",
        "# The Radius of a circle is provided as the input of the program.\n",
        "\n",
        "# Output Description:\n",
        "# Calculate and print the Circumference of the circle corresponding to the input radius up to two decimal places.\n",
        "\n",
        "# Sample Input :\n",
        "# 2\n",
        "# Sample Output :\n",
        "# 12.57\n",
        "\n",
        "import math\n",
        "r=float(input())\n",
        "\n",
        "if r<0:\n",
        "  print('Error')\n",
        "else:\n",
        "  circle=2*r*math.pi\n",
        "  round=format(circle,'.2f')\n",
        "  print(round)\n"
      ],
      "metadata": {
        "colab": {
          "base_uri": "https://localhost:8080/"
        },
        "id": "O9LxI-YClYz6",
        "outputId": "86284198-6481-4e86-df32-5520a2340644"
      },
      "execution_count": null,
      "outputs": [
        {
          "output_type": "stream",
          "name": "stdout",
          "text": [
            "2\n",
            "12.57\n"
          ]
        }
      ]
    },
    {
      "cell_type": "code",
      "source": [
        "# 9.You are given three numbers A, B & C. Print the largest amongst these three numbers.\n",
        "\n",
        "# Input Description:\n",
        "# Three numbers are provided to you.\n",
        "\n",
        "# Output Description:\n",
        "# Find and print the largest among the three\n",
        "\n",
        "# Sample Input :\n",
        "# 1\n",
        "# 2\n",
        "# 3\n",
        "# Sample Output :\n",
        "# 3\n",
        "\n",
        "print(\"Sample Input: \")\n",
        "a=int(input())\n",
        "b=int(input())\n",
        "c=int(input())\n",
        "print(\"Sample Output: \")\n",
        "if a>=b and a>=c:\n",
        "  print(a)\n",
        "elif b>=a and b>=c:\n",
        "  print(b)\n",
        "else:\n",
        "  print(c)  \n"
      ],
      "metadata": {
        "colab": {
          "base_uri": "https://localhost:8080/"
        },
        "id": "k1oCEBVsmelL",
        "outputId": "48828070-f3b2-45d7-b2d0-01f750f2159b"
      },
      "execution_count": null,
      "outputs": [
        {
          "output_type": "stream",
          "name": "stdout",
          "text": [
            "Sample Input: \n",
            "1\n",
            "2\n",
            "3\n",
            "Sample Output: \n",
            "3\n"
          ]
        }
      ]
    },
    {
      "cell_type": "code",
      "source": [
        "# 10.Using the method of looping, write a program to print the table of 9 till N in the format as follows:\n",
        "# (N is input by the user)\n",
        "\n",
        "# 9 18 27...\n",
        "\n",
        "# Print NULL if 0 is input\n",
        "\n",
        "# Input Description:\n",
        "# A positive integer is provided as an input.\n",
        "\n",
        "# Output Description:\n",
        "# Print the table of nine with single space between the elements till the number that is input.\n",
        "\n",
        "# Sample Input :\n",
        "# 3\n",
        "# Sample Output :\n",
        "# 9 18 27\n",
        "\n",
        "a=int(input())\n",
        "l=[]\n",
        "if a==0:\n",
        "  print(\"NULL\")\n",
        "else:\n",
        "  for i in range(1,a+1):\n",
        "    i=i*9\n",
        "    l.append(i)\n",
        "    # print(i*9)\n",
        "print(*l)\n"
      ],
      "metadata": {
        "colab": {
          "base_uri": "https://localhost:8080/"
        },
        "id": "8kkgsBmo0d3h",
        "outputId": "2157dede-f918-4137-beaf-62d6ff70af78"
      },
      "execution_count": null,
      "outputs": [
        {
          "output_type": "stream",
          "name": "stdout",
          "text": [
            "3\n",
            "9 18 27\n"
          ]
        }
      ]
    },
    {
      "cell_type": "code",
      "source": [
        "# 11.Print the First 3 multiples of the given number \"N\". (N is a positive integer)\n",
        "\n",
        "# Note: print the characters with a single space between them.\n",
        "\n",
        "# Input Description:\n",
        "# A positive integer is provided to you as an input.\n",
        "\n",
        "# Output Description:\n",
        "# Print the First 3 multiples of the number with single spaces between them as an output.\n",
        "\n",
        "# Sample Input :\n",
        "# 2\n",
        "# Sample Output :\n",
        "# 2 4 6\n",
        "\n",
        "a=int(input())\n",
        "b=[]\n",
        "for i in range(1,4):\n",
        "  l=i*a\n",
        "  b.append(l)\n",
        "print(*b)  "
      ],
      "metadata": {
        "colab": {
          "base_uri": "https://localhost:8080/"
        },
        "id": "1M-jlzyJ0d1L",
        "outputId": "bf79114f-3236-4f1c-a55e-1e298cffa3c3"
      },
      "execution_count": null,
      "outputs": [
        {
          "output_type": "stream",
          "name": "stdout",
          "text": [
            "2\n",
            "2 4 6\n"
          ]
        }
      ]
    },
    {
      "cell_type": "code",
      "source": [
        "# 12.Let \"A\" be a year, write a program to check whether this year is a leap year or not.\n",
        "\n",
        "# Print \"Y\" if its a leap year and \"N\" if its a common year.\n",
        "\n",
        "# Input Description:\n",
        "# A Year is the input in the form of a positive integer.\n",
        "\n",
        "# Output Description:\n",
        "# Print \"Y\" if its a leap year and \"N\" if its a common year.\n",
        "\n",
        "# Sample Input :\n",
        "# 2020\n",
        "# Sample Output :\n",
        "# # Y\n",
        "\n",
        "year = int(input())\n",
        "\n",
        "if year % 4 == 0:\n",
        "    if year % 100 == 0:\n",
        "        if year % 400 == 0:\n",
        "            print(\"Y\")\n",
        "        else:\n",
        "            print(\"N\")\n",
        "    else:\n",
        "        print(\"Y\")\n",
        "else:\n",
        "    print(\"N\")"
      ],
      "metadata": {
        "colab": {
          "base_uri": "https://localhost:8080/"
        },
        "id": "Np02tpaK0dyp",
        "outputId": "f7f4f0d1-275e-4282-f0c2-44f29727c147"
      },
      "execution_count": null,
      "outputs": [
        {
          "output_type": "stream",
          "name": "stdout",
          "text": [
            "2020\n",
            "Y\n"
          ]
        }
      ]
    },
    {
      "cell_type": "code",
      "source": [
        "# 13.Write a code to get an integer N and print values from 1 till N in a separate line.\n",
        "\n",
        "# Input Description:\n",
        "# A single line contains an integer N.\n",
        "\n",
        "# Output Description:\n",
        "# Print the values from 1 to N in a separate line.\n",
        "\n",
        "# Sample Input :\n",
        "# 5\n",
        "# Sample Output :\n",
        "# 1\n",
        "# 2\n",
        "# 3\n",
        "# 4\n",
        "# 5\n",
        "print(\"Sample Input: \")\n",
        "a=int(input())\n",
        "print(\"Sample Output: \")\n",
        "for i in range(1,a+1):\n",
        "  print(i)"
      ],
      "metadata": {
        "colab": {
          "base_uri": "https://localhost:8080/"
        },
        "id": "hxkQ1GY60dvV",
        "outputId": "d35ba95d-03f4-43ae-d308-efa2d9c38ff9"
      },
      "execution_count": null,
      "outputs": [
        {
          "output_type": "stream",
          "name": "stdout",
          "text": [
            "Sample Input\n",
            "5\n",
            "Sample Output\n",
            "1\n",
            "2\n",
            "3\n",
            "4\n",
            "5\n"
          ]
        }
      ]
    },
    {
      "cell_type": "code",
      "source": [
        "# 14.You are given the coefficients of a quadratic equation in order A, B & C.\n",
        "\n",
        "# Where A is the coefficient of X2,  B is the coefficient of X and C is the constant term in the most simplified form.\n",
        "\n",
        "# Example: For  X2 + 5X + 6 = 0, you are given the input as: 1 5 6.\n",
        "\n",
        "# Write a program to find all of the roots of the quadratic.\n",
        "\n",
        "# Note: The output should be up to 2nd decimal place (round off if needed) and in case of a recurring decimal use braces i.e. for eg: 0.33333..... => 0.33.\n",
        "\n",
        "# Note: Use Shri Dharacharya's Method to solve i.e. X = {-b + √(b² - 4ac) } / 2a & {-b-√(b² -4ac)} / 2a\n",
        "\n",
        "# Input Description:\n",
        "# Three numbers corresponding to the coefficients of x(squared), x and constant are given as an input in that particular order\n",
        "\n",
        "# Output Description:\n",
        "# Print the two values of X after rounding off to 2 decimal places if required.\n",
        "\n",
        "# Sample Input :\n",
        "# 1 5 6\n",
        "# Sample Output :\n",
        "# -2.00\n",
        "# -3.00\n",
        "\n",
        "import math\n",
        "print(\"Sample Input: \")\n",
        "a,b,c = list(map(float,input().split(' '))) \n",
        " \n",
        "  \n",
        "# calculate the discriminant  \n",
        "d = (b**2) - (4*a*c)  \n",
        "  \n",
        "# find two solutions  \n",
        "sol1 = (-b-math.sqrt(d))/(2*a)  \n",
        "sol2 = (-b+math.sqrt(d))/(2*a)  \n",
        "print(\"Sample Output: \")\n",
        "print(format(sol2,'.2f'))\n",
        "print(format(sol1,'.2f'))"
      ],
      "metadata": {
        "colab": {
          "base_uri": "https://localhost:8080/"
        },
        "id": "Le5S28cZ0drv",
        "outputId": "c47f457e-b685-48c2-db39-53bc06b45dfe"
      },
      "execution_count": null,
      "outputs": [
        {
          "output_type": "stream",
          "name": "stdout",
          "text": [
            "Sample Input: \n",
            "1 5 6\n",
            "Sample Output: \n",
            "-2.00\n",
            "-3.00\n"
          ]
        }
      ]
    },
    {
      "cell_type": "code",
      "source": [
        "# 15.You are given with a number A i.e. the temperature in Celcius. Write a program to convert this into Fahrenheit. \n",
        "\n",
        "# Note: In case of decimal values, round-off to two decimal places.\n",
        "\n",
        "# Input Description:\n",
        "# A number is provided in Celcius as the input of the program.\n",
        "\n",
        "# Output Description:\n",
        "# The output shall be the temperature converted into Fahrenheit corresponding to the input value print up to two decimal places and round off if required.\n",
        "\n",
        "# Sample Input :\n",
        "# 12\n",
        "# Sample Output :\n",
        "# 53.60\n",
        "\n",
        "print(\"Sample Input: \")\n",
        "C=int(input())\n",
        "F=C*9/5+32\n",
        "print(\"Sample Output: \")\n",
        "print(format(F,'.2f'))"
      ],
      "metadata": {
        "colab": {
          "base_uri": "https://localhost:8080/"
        },
        "id": "F1zDygHD0dlX",
        "outputId": "9909290b-b0a0-4e00-b4e7-4139ba523ce7"
      },
      "execution_count": null,
      "outputs": [
        {
          "output_type": "stream",
          "name": "stdout",
          "text": [
            "Sample Input: \n",
            "12\n",
            "Sample Output: \n",
            "53.60\n"
          ]
        }
      ]
    },
    {
      "cell_type": "code",
      "source": [
        "# 16.Write a code to get 2 integers A and N. Print the integer A, N times in separate line.\n",
        "\n",
        "# Input Description:\n",
        "# First line contains an integer A. Second line contains an Integer N.\n",
        "\n",
        "# Output Description:\n",
        "# Print the integer A, N times in a separate line.\n",
        "\n",
        "# Sample Input :\n",
        "# 2 3\n",
        "# Sample Output :\n",
        "# 2\n",
        "# 2\n",
        "# 2\n",
        "\n",
        "print(\"Sample Input: \")\n",
        "A,B = list(map(int,input().split(' '))) \n",
        "# A=int(input())\n",
        "print(\"Sample Output: \")\n",
        "for i in range(B):\n",
        "  print(A)"
      ],
      "metadata": {
        "colab": {
          "base_uri": "https://localhost:8080/"
        },
        "id": "JKOx0bY60da0",
        "outputId": "1d35e56e-7871-47db-8fc9-09d6496d361a"
      },
      "execution_count": null,
      "outputs": [
        {
          "output_type": "stream",
          "name": "stdout",
          "text": [
            "Sample Input: \n",
            "2 3\n",
            "Sample Output: \n",
            "2\n",
            "2\n",
            "2\n"
          ]
        }
      ]
    },
    {
      "cell_type": "code",
      "source": [
        "# 17 Write a code to get an integer N and print the digits of the integer.\n",
        "\n",
        "# Input Description:\n",
        "# A single line contains an integer N.\n",
        "\n",
        "# Output Description:\n",
        "# Print the digits of the integer in a single line separated by space,\n",
        "\n",
        "# Sample Input :\n",
        "# 348\n",
        "# Sample Output :\n",
        "# 3 4 8\n",
        "\n",
        "print(\"Sample Input: \")\n",
        "N=input()\n",
        "print(\"Sample Output: \")\n",
        "print(\" \".join(N))"
      ],
      "metadata": {
        "colab": {
          "base_uri": "https://localhost:8080/"
        },
        "id": "Sh7GfjR-0dPK",
        "outputId": "ef5dfda2-ee5b-4ed5-d102-4252c66ee62d"
      },
      "execution_count": null,
      "outputs": [
        {
          "output_type": "stream",
          "name": "stdout",
          "text": [
            "Sample Input: \n",
            "348\n",
            "Sample Output: \n",
            "3 4 8\n"
          ]
        }
      ]
    },
    {
      "cell_type": "code",
      "source": [
        "# 18. You are given a number A in Kilometers. Convert this into B: Meters and C: Centi-Metres.\n",
        "\n",
        "# Input Description:\n",
        "# A number \"A\" representing some distance in kilometer is provided to you as the input.\n",
        "\n",
        "# Output Description:\n",
        "# Convert and print this value in meters and centimeters.\n",
        "\n",
        "# Sample Input :\n",
        "# 2\n",
        "# Sample Output :\n",
        "# 2000\n",
        "# 200000\n",
        "\n",
        "print(\"Sample Input: \")\n",
        "A=int(input())\n",
        "B=A*1000\n",
        "C=A*100000\n",
        "\n",
        "print(\"Sample Output: \")\n",
        "print(B)\n",
        "print(C)"
      ],
      "metadata": {
        "colab": {
          "base_uri": "https://localhost:8080/"
        },
        "id": "ljD0a_Cp4JeU",
        "outputId": "a37058c9-73c2-4626-a9e6-db4f17333cce"
      },
      "execution_count": null,
      "outputs": [
        {
          "output_type": "stream",
          "name": "stdout",
          "text": [
            "Sample Input: \n",
            "2\n",
            "Sample Output: \n",
            "2000\n",
            "200000\n"
          ]
        }
      ]
    },
    {
      "cell_type": "code",
      "source": [
        "# 19. The area of an equilateral triangle is ¼(√3a2) where \"a\" represents a side of the triangle. You are provided with the side \"a\". Find the area of the equilateral triangle.\n",
        "\n",
        "# Input Description:\n",
        "# The side of an equilateral triangle is provided as the input.\n",
        "\n",
        "# Output Description:\n",
        "# Find the area of the equilateral triangle and print the answer up to 2 decimal places after rounding off.\n",
        "\n",
        "# Sample Input :\n",
        "# 20\n",
        "# Sample Output :\n",
        "# 173.21\n",
        "import math as m\n",
        "print(\"Sample Input: \")\n",
        "a=int(input())\n",
        "T=1/4*(m.sqrt(3)*(a*a))\n",
        "print(\"Sample Output: \")\n",
        "print(round(T,2))"
      ],
      "metadata": {
        "colab": {
          "base_uri": "https://localhost:8080/"
        },
        "id": "T3QMQdda4-tN",
        "outputId": "635115cb-8b93-436e-9ab8-e6ec28a0c5c7"
      },
      "execution_count": null,
      "outputs": [
        {
          "output_type": "stream",
          "name": "stdout",
          "text": [
            "Sample Input: \n",
            "20\n",
            "Sample Output: \n",
            "173.21\n"
          ]
        }
      ]
    },
    {
      "cell_type": "code",
      "source": [
        "# 20.Write a code to get an integer N and print the even values from 1 till N in a separate line.\n",
        "\n",
        "# Input Description:\n",
        "# A single line contains an integer N.\n",
        "\n",
        "# Output Description:\n",
        "# Print the even values from 1 to N in a separate line.\n",
        "\n",
        "# Sample Input :\n",
        "# 6\n",
        "# Sample Output :\n",
        "# 2\n",
        "# 4\n",
        "# 6\n",
        "\n",
        "print(\"Sample Input: \")\n",
        "N=int(input())\n",
        "print(\"Sample Output: \")\n",
        "for i in range(1,N+1):\n",
        "  if i%2==0:\n",
        "    print(i)\n"
      ],
      "metadata": {
        "colab": {
          "base_uri": "https://localhost:8080/"
        },
        "id": "MwLUHw9eBxZ_",
        "outputId": "abf56f5a-c559-4ebe-ee97-795c0a0b203f"
      },
      "execution_count": null,
      "outputs": [
        {
          "output_type": "stream",
          "name": "stdout",
          "text": [
            "Sample Input: \n",
            "6\n",
            "Sample Output: \n",
            "2\n",
            "4\n",
            "6\n"
          ]
        }
      ]
    },
    {
      "cell_type": "code",
      "source": [
        "# 21.You are provided with a number \"N\", Find the Nth term of the series: 1, 4, 9, 16, 25, 36, 49, 64, 81, .......\n",
        "\n",
        "# (Print \"Error\" if N = negative value and 0 if N = 0).\n",
        "\n",
        "# Input Description:\n",
        "# An integer N is provided to you as the input.\n",
        "\n",
        "# Output Description:\n",
        "# Find the Nth term in the provided series.\n",
        "\n",
        "# Sample Input :\n",
        "# 18\n",
        "# Sample Output :\n",
        "# 324\n",
        "print(\"Sample Input: \")\n",
        "N=int(input())\n",
        "print(\"Sample Output: \")\n",
        "if N==0:\n",
        "  print(0)\n",
        "elif N<0:\n",
        "  print(\"Error\")  \n",
        "else:\n",
        "  print(N*N)  "
      ],
      "metadata": {
        "id": "bP0f5Fd34TMb",
        "colab": {
          "base_uri": "https://localhost:8080/"
        },
        "outputId": "3af1af06-b479-486f-8c4e-0761d958e8af"
      },
      "execution_count": null,
      "outputs": [
        {
          "output_type": "stream",
          "name": "stdout",
          "text": [
            "Sample Input: \n",
            "18\n",
            "Sample Output: \n",
            "324\n"
          ]
        }
      ]
    },
    {
      "cell_type": "code",
      "source": [
        "# 22.\n",
        "# Write a program to get a string as input and reverse the string without using temporary variable.\n",
        "\n",
        "# Input Description:\n",
        "# A single line containing a string.\n",
        "\n",
        "# Output Description:\n",
        "# Print the reversed string.\n",
        "\n",
        "# Sample Input :\n",
        "# GUVI\n",
        "# Sample Output :\n",
        "# IVUG\n",
        "print(\"Sample Input: \")\n",
        "a=input()\n",
        "print(\"Sample Output: \")\n",
        "print(a[::-1])"
      ],
      "metadata": {
        "id": "I-TbCMfc4Trd",
        "colab": {
          "base_uri": "https://localhost:8080/"
        },
        "outputId": "e006715c-78f9-43a5-c9a2-1f855f22ed29"
      },
      "execution_count": null,
      "outputs": [
        {
          "output_type": "stream",
          "name": "stdout",
          "text": [
            "Sample Input: \n",
            "GUVI\n",
            "Sample Output: \n",
            "IVUG\n"
          ]
        }
      ]
    },
    {
      "cell_type": "code",
      "source": [
        "# 23.Write a code to get an integer N and print the values from N to 1.\n",
        "\n",
        "# Input Description:\n",
        "# A single line contains an integer N.\n",
        "\n",
        "# Output Description:\n",
        "# Print the values from N to 1 in a separate line.\n",
        "\n",
        "# Sample Input :\n",
        "# 10\n",
        "# Sample Output :\n",
        "# 10\n",
        "# 9\n",
        "# 8\n",
        "# 7\n",
        "# 6\n",
        "# 5\n",
        "# 4\n",
        "# 3\n",
        "# 2\n",
        "# 1\n",
        "\n",
        "print(\"Sample Input: \")\n",
        "N=int(input())\n",
        "print(\"Sample Output: \")\n",
        "for i in range(N,0,-1):\n",
        "  print(i)"
      ],
      "metadata": {
        "id": "QbGc8P_z4US4",
        "colab": {
          "base_uri": "https://localhost:8080/"
        },
        "outputId": "b4111cb2-fbb5-42e0-ef4b-8eb7a71c97bd"
      },
      "execution_count": null,
      "outputs": [
        {
          "output_type": "stream",
          "name": "stdout",
          "text": [
            "Sample Input: \n",
            "10\n",
            "Sample Output: \n",
            "10\n",
            "9\n",
            "8\n",
            "7\n",
            "6\n",
            "5\n",
            "4\n",
            "3\n",
            "2\n",
            "1\n"
          ]
        }
      ]
    },
    {
      "cell_type": "code",
      "source": [
        "# 24.Write a code get an integer number as input and print the odd and even digits of the number separately.\n",
        "\n",
        "# Input Description:\n",
        "# A single line containing an integer.\n",
        "\n",
        "# Output Description:\n",
        "# Print the even and odd integers of the integer in a separate line.\n",
        "\n",
        "# Sample Input :\n",
        "# 1234\n",
        "# Sample Output :\n",
        "# 2 4\n",
        "# 1 3\n",
        "print(\"Sample Input: \")\n",
        "N=input()\n",
        "\n",
        "print(\"Sample Output: \")\n",
        "even=[]\n",
        "odd=[]\n",
        "\n",
        "for i in N:\n",
        "  i=int(i)\n",
        "  if i%2==0:\n",
        "    even.append(i)\n",
        "  else:\n",
        "    odd.append(i)\n",
        "    \n",
        "print(*even)\n",
        "print(*odd)    "
      ],
      "metadata": {
        "id": "-03YGeef4Uk-",
        "colab": {
          "base_uri": "https://localhost:8080/"
        },
        "outputId": "b57028b3-e2c6-4ff9-db1d-f2063baf10df"
      },
      "execution_count": null,
      "outputs": [
        {
          "output_type": "stream",
          "name": "stdout",
          "text": [
            "Sample Input: \n",
            "1234\n",
            "Sample Output: \n",
            "2 4\n",
            "1 3\n"
          ]
        }
      ]
    },
    {
      "cell_type": "code",
      "source": [
        "# 25.Let \"A\"  be a string. Remove all the whitespaces and find it's length.\n",
        "\n",
        "# Input Description:\n",
        "# A string is provide as an input\n",
        "\n",
        "# Output Description:\n",
        "# Remove all the whitespaces and then print the length of the remaining string.\n",
        "\n",
        "# Sample Input :\n",
        "# Lorem Ipsum\n",
        "# Sample Output :\n",
        "# 10\n",
        "print(\"Sample Input: \")\n",
        "A=input()\n",
        "print(\"Sample Output: \")\n",
        "A=A.replace(\" \",\"\")\n",
        "print(len(A))"
      ],
      "metadata": {
        "id": "hWuQff_V4UrR",
        "colab": {
          "base_uri": "https://localhost:8080/"
        },
        "outputId": "0e340579-b856-4d17-f04b-cdbdb972a31c"
      },
      "execution_count": null,
      "outputs": [
        {
          "output_type": "stream",
          "name": "stdout",
          "text": [
            "Sample Input: \n",
            "Lorem Ipsum\n",
            "Sample Output: \n",
            "10\n"
          ]
        }
      ]
    },
    {
      "cell_type": "code",
      "source": [
        "# 26.Write a code to get an integer N and print the sum of  values from 1 to N.\n",
        "\n",
        "# Input Description:\n",
        "# A single line contains an integer N.\n",
        "\n",
        "# Output Description:\n",
        "# Print the sum of values from 1 to N.\n",
        "\n",
        "# Sample Input :\n",
        "# 10\n",
        "# Sample Output :\n",
        "# 55\n",
        "print(\"Sample Input: \")\n",
        "N= int(input())\n",
        "sum = 0\n",
        "\n",
        "print(\"Sample Output: \")\n",
        "\n",
        "for value in range(1, N + 1):\n",
        "    sum = sum + value\n",
        "print(sum)"
      ],
      "metadata": {
        "id": "HAU1jBVF4UwH",
        "colab": {
          "base_uri": "https://localhost:8080/"
        },
        "outputId": "8b21033d-b609-4563-97d3-5937083e03bb"
      },
      "execution_count": null,
      "outputs": [
        {
          "output_type": "stream",
          "name": "stdout",
          "text": [
            "Sample Input: \n",
            "10\n",
            "Sample Output: \n",
            "55\n"
          ]
        }
      ]
    },
    {
      "cell_type": "code",
      "source": [
        "# 27.Write a code to get 2 integers as input and find the HCF of the 2 integer without using recursion or Euclidean algorithm.\n",
        "\n",
        "# Input Description:\n",
        "# A single line containing 2 integers separated by space.\n",
        "\n",
        "# Output Description:\n",
        "# Print the HCF of the integers.\n",
        "\n",
        "# Sample Input :\n",
        "# 2 3\n",
        "# Sample Output :\n",
        "# 1\n",
        "print(\"Sample Input: \")\n",
        "x,y=list(map(int,input().split(\" \")))\n",
        "smaller=min(x,y)\n",
        "print(\"Sample Output: \")\n",
        "for i in range(1, smaller+1):\n",
        "  if((x % i == 0) and (y % i == 0)):\n",
        "    hcf = i \n",
        "print(hcf) \n"
      ],
      "metadata": {
        "id": "Ntv14E094U21",
        "colab": {
          "base_uri": "https://localhost:8080/"
        },
        "outputId": "3738393f-8009-40e9-e26a-c345d0b1f7f9"
      },
      "execution_count": null,
      "outputs": [
        {
          "output_type": "stream",
          "name": "stdout",
          "text": [
            "Sample Input: \n",
            "2 3\n",
            "Sample Output: \n",
            "1\n"
          ]
        }
      ]
    },
    {
      "cell_type": "code",
      "source": [
        "# 28.Write a code get an integer number as input and print the sum of the digits.\n",
        "\n",
        "# Input Description:\n",
        "# A single line containing an integer.\n",
        "\n",
        "# Output Description:\n",
        "# Print the sum of the digits of the integer.\n",
        "\n",
        "# Sample Input :\n",
        "# 124\n",
        "# Sample Output :\n",
        "# 7\n",
        "print(\"Sample Input: \")\n",
        "A=input()\n",
        "total=[]\n",
        "print(\"Sample Output: \")\n",
        "for i in A:\n",
        "  total.append(int(i))\n",
        "print(sum(total))\n"
      ],
      "metadata": {
        "id": "njq-3wBT4U9N",
        "colab": {
          "base_uri": "https://localhost:8080/"
        },
        "outputId": "51899457-a98b-4256-8688-83165ab9fa64"
      },
      "execution_count": null,
      "outputs": [
        {
          "output_type": "stream",
          "name": "stdout",
          "text": [
            "Sample Input: \n",
            "124\n",
            "Sample Output: \n",
            "7\n"
          ]
        }
      ]
    },
    {
      "cell_type": "code",
      "source": [
        "# 29.You are provided with two numbers. Find and print the smaller number.\n",
        "\n",
        "# Input Description:\n",
        "# You are provided with two numbers as input.\n",
        "\n",
        "# Output Description:\n",
        "# Print the small number out of the two numbers.\n",
        "\n",
        "# Sample Input :\n",
        "# 23 1\n",
        "# Sample Output :\n",
        "# 1\n",
        "print(\"Sample Input: \")\n",
        "A,B=list(map(int,input().split()))\n",
        "print(\"Sample Output: \")\n",
        "if A>B:\n",
        "  print(B)\n",
        "else:\n",
        "  print(A) "
      ],
      "metadata": {
        "colab": {
          "base_uri": "https://localhost:8080/"
        },
        "id": "VWl2WVP3XsKQ",
        "outputId": "8d3a64dc-bb9c-4bad-a39a-c7eee541ac32"
      },
      "execution_count": null,
      "outputs": [
        {
          "output_type": "stream",
          "name": "stdout",
          "text": [
            "Sample Input: \n",
            "23 1\n",
            "Sample Output: \n",
            "1\n"
          ]
        }
      ]
    },
    {
      "cell_type": "code",
      "source": [
        "#30. Write a code to get the input and print it 5 times.\n",
        "\n",
        "# Input Description:\n",
        "# A single line contains an integer N.\n",
        "\n",
        "# Output Description:\n",
        "# Output contains 5 lines with each line having the value N.\n",
        "\n",
        "# Sample Input :\n",
        "# 4\n",
        "# Sample Output :\n",
        "# 4\n",
        "# 4\n",
        "# 4\n",
        "# 4\n",
        "# 4\n",
        "print((\"sample input:\"))\n",
        "a=input()\n",
        "print(\"sample output:\")\n",
        "for i in range(5):\n",
        "  print(a)"
      ],
      "metadata": {
        "colab": {
          "base_uri": "https://localhost:8080/"
        },
        "id": "gXI3FrShFnwY",
        "outputId": "91d41a35-ec55-4da8-b274-3817598ab8c3"
      },
      "execution_count": null,
      "outputs": [
        {
          "output_type": "stream",
          "name": "stdout",
          "text": [
            "sample input:4\n",
            "sample output:\n",
            "4\n",
            "4\n",
            "4\n",
            "4\n",
            "4\n"
          ]
        }
      ]
    },
    {
      "cell_type": "markdown",
      "source": [
        "# **array**"
      ],
      "metadata": {
        "id": "Jb6aRFUgxpoe"
      }
    },
    {
      "cell_type": "code",
      "source": [
        "# 1.You are given with an array. For each element present in the array your task is to print the next smallest than that number.\n",
        "# If it is not smallest print -1\n",
        "\n",
        "# Input Description:\n",
        "# You are given a number ‘n’ representing size of array. And n space separated numbers.\n",
        "\n",
        "# Output Description:\n",
        "# Print the next smallest number present in array and -1 if no smallest is present\n",
        "\n",
        "# Sample Input :\n",
        "# 7\n",
        "# 10 7 9 3 2 1 15\n",
        "# Sample Output :\n",
        "# 7 3 3 2 1 -1 -1\n",
        "\n",
        "# Get input from user\n",
        "n = int(input())\n",
        "arr = list(map(int, input().split()))\n",
        "\n",
        "# Iterate through the array\n",
        "for i in range(n): #0,1,2,3,4,5,6\n",
        "    # Initialize the next smallest element to -1\n",
        "    next_smallest = -1\n",
        "    \n",
        "    # Iterate through the remaining elements in the array\n",
        "    for j in range(i+1, n): \n",
        "\n",
        "# 0+1,n=> j= 1 2 3 4 5 6 i= 0\n",
        "# 1+1,n=> j= 2 3 4 5 6   i= 1\n",
        "# 2+1,n=> j= 3 4 5 6     i= 2\n",
        "# 3+1,n=> j= 4 5 6       i= 3\n",
        "# 4+1,n=> j= 5 6         i= 4\n",
        "# 5+1,n=> j= 6           i= 5\n",
        "# 6+1,n=> nothing        i= 6\n",
        "\n",
        "#arr = 10 7 9 3 2 1 15\n",
        "\n",
        "        # If we find a smaller element, update next_smallest and break out of the loop\n",
        "        if arr[j] < arr[i]:\n",
        "            next_smallest = arr[j]\n",
        "            break\n",
        "    \n",
        "    # Print the next smallest element (or -1 if none found)\n",
        "    print(list(next_smallest))\n"
      ],
      "metadata": {
        "colab": {
          "base_uri": "https://localhost:8080/",
          "height": 244
        },
        "id": "pa3zU1XJyodU",
        "outputId": "00c275e7-3d7d-4ab3-d4b3-63d2eb328c61"
      },
      "execution_count": null,
      "outputs": [
        {
          "name": "stdout",
          "output_type": "stream",
          "text": [
            "7\n",
            "1 2 3 4 5 6 7\n"
          ]
        },
        {
          "output_type": "error",
          "ename": "TypeError",
          "evalue": "ignored",
          "traceback": [
            "\u001b[0;31m---------------------------------------------------------------------------\u001b[0m",
            "\u001b[0;31mTypeError\u001b[0m                                 Traceback (most recent call last)",
            "\u001b[0;32m<ipython-input-12-e909340fac00>\u001b[0m in \u001b[0;36m<module>\u001b[0;34m\u001b[0m\n\u001b[1;32m     42\u001b[0m \u001b[0;34m\u001b[0m\u001b[0m\n\u001b[1;32m     43\u001b[0m     \u001b[0;31m# Print the next smallest element (or -1 if none found)\u001b[0m\u001b[0;34m\u001b[0m\u001b[0;34m\u001b[0m\u001b[0;34m\u001b[0m\u001b[0m\n\u001b[0;32m---> 44\u001b[0;31m     \u001b[0mprint\u001b[0m\u001b[0;34m(\u001b[0m\u001b[0mlist\u001b[0m\u001b[0;34m(\u001b[0m\u001b[0mnext_smallest\u001b[0m\u001b[0;34m)\u001b[0m\u001b[0;34m)\u001b[0m\u001b[0;34m\u001b[0m\u001b[0;34m\u001b[0m\u001b[0m\n\u001b[0m",
            "\u001b[0;31mTypeError\u001b[0m: 'int' object is not iterable"
          ]
        }
      ]
    },
    {
      "cell_type": "code",
      "source": [
        "# 2.You are given an array. Your task is to sort the array in given manner. Print the elements in increasing order of the frequency. If frequency is same print smaller one first.\n",
        "\n",
        "# Input Description:\n",
        "# You are given a number ‘n’. Then in next line n space separated numbers.\n",
        "\n",
        "# Output Description:\n",
        "# Print the array as mentioned\n",
        "\n",
        "# Sample Input :\n",
        "# 4\n",
        "# 1 1 3 2\n",
        "# Sample Output :\n",
        "# 2 3 1\n",
        "\n",
        "from collections import Counter\n",
        "\n",
        "n = int(input())\n",
        "arr = list(map(int, input().split()))\n",
        "\n",
        "# Count the frequency of each element in the array\n",
        "freq = Counter(arr)\n",
        "\n",
        "# Sort the array based on the frequency of each element\n",
        "arr = sorted(arr, key=lambda x: (freq[x], x))\n",
        "\n",
        "# Remove duplicates from the sorted array\n",
        "arr = list(dict.fromkeys(arr))\n",
        "\n",
        "# Print the sorted array\n",
        "print(*arr)\n"
      ],
      "metadata": {
        "colab": {
          "base_uri": "https://localhost:8080/"
        },
        "id": "3BbFTUGQudAq",
        "outputId": "611512c6-d3f2-4e61-dff0-6858dac68a75"
      },
      "execution_count": null,
      "outputs": [
        {
          "output_type": "stream",
          "name": "stdout",
          "text": [
            "4\n",
            "1 1 3 2\n",
            "2 3 1\n"
          ]
        }
      ]
    },
    {
      "cell_type": "code",
      "source": [
        "# 3.You are a passport issuer, but due to some problems in the system, there are redundant  passport numbers. Your task is to delete all the duplicate passport numbers. You are given a list of passport numbers.\n",
        "\n",
        "# Input Description:\n",
        "# You are given length of list.Second line,You are given with a list.\n",
        "\n",
        "# Output Description:\n",
        "# Print the list of passport numbers without duplicates.\n",
        "\n",
        "# Sample Input :\n",
        "# 5\n",
        "# A23 B56 B56 C79 D16\n",
        "# Sample Output :\n",
        "# A23 B56 C79 D16\n",
        "\n",
        "a=int(input())\n",
        "\n",
        "b=list(map(str,input().split()))\n",
        "l=[]\n",
        "for i in b:\n",
        "  if i not in l:\n",
        "    l.append(i)\n",
        "print(*l)    \n"
      ],
      "metadata": {
        "colab": {
          "base_uri": "https://localhost:8080/"
        },
        "id": "_0oftgwB2N7q",
        "outputId": "40e62309-131c-4562-dd05-a73f4abec385"
      },
      "execution_count": null,
      "outputs": [
        {
          "output_type": "stream",
          "name": "stdout",
          "text": [
            "5\n",
            "A23 B56 B56 C79 D16\n",
            "A23 B56 C79 D16\n"
          ]
        }
      ]
    },
    {
      "cell_type": "code",
      "source": [
        "# 4. You are given with an array of numbers, Your task is to print the difference of indices of largest and smallest number.All number are unique.\n",
        "\n",
        "# Input Description:\n",
        "# First line contains a number ‘n’. Then next line contains n space separated numbers.\n",
        "\n",
        "# Output Description:\n",
        "# Print the difference of indices of largest and smallest array\n",
        "\n",
        "# Sample Input :\n",
        "# 5\n",
        "# 1 6 4 0 3\n",
        "# Sample Output :\n",
        "# -2\n",
        "\n",
        "n = int(input())        # read the number of elements in the array\n",
        "arr = list(map(int, input().split()))   # read the array of numbers\n",
        "\n",
        "min_index = arr.index(min(arr))     # get the index of the smallest number\n",
        "max_index = arr.index(max(arr))     # get the index of the largest number\n",
        "\n",
        "print(max_index - min_index)      # print the difference between the indices\n"
      ],
      "metadata": {
        "id": "bZqrQ7CziHxH",
        "outputId": "bf77794d-186d-48a0-9463-ec7ee5a1757e",
        "colab": {
          "base_uri": "https://localhost:8080/"
        }
      },
      "execution_count": null,
      "outputs": [
        {
          "output_type": "stream",
          "name": "stdout",
          "text": [
            "5\n",
            "1 6 4 0 3\n",
            "-2\n"
          ]
        }
      ]
    },
    {
      "cell_type": "code",
      "source": [
        "# 5.You are provided with an array in which all elements are repeated thrice except one which is repeated twice.Your task is to print that number.\n",
        "\n",
        " \n",
        "\n",
        "# O(n) time and O(1) extra space\n",
        "\n",
        "# Input Description:\n",
        "# First line contains a number denoting size of array ‘n’.Next line contains n space separated numbers\n",
        "\n",
        "# Output Description:\n",
        "# Print the number which is repeated twice\n",
        "\n",
        "# Sample Input :\n",
        "# 5\n",
        "# 13 12 13 12 13\n",
        "# Sample Output :\n",
        "# 12\n",
        "\n",
        "\n"
      ],
      "metadata": {
        "id": "xD0XvwzgjYvy"
      },
      "execution_count": null,
      "outputs": []
    },
    {
      "cell_type": "code",
      "source": [],
      "metadata": {
        "id": "dP_daxkDmHWB"
      },
      "execution_count": null,
      "outputs": []
    },
    {
      "cell_type": "markdown",
      "source": [
        "# **basics**"
      ],
      "metadata": {
        "id": "TtTPa9fGonmK"
      }
    },
    {
      "cell_type": "code",
      "source": [
        "# 1.Given 3 numbers N , L and R. Print 'yes' if N is between L and R else print 'no'.\n",
        "# Sample Testcase :\n",
        "# INPUT\n",
        "# 3\n",
        "# 2 6\n",
        "# OUTPUT\n",
        "# yes\n",
        "\n",
        "N=int(input())\n",
        "L,R=list(map(int,input().split( )))\n",
        "\n",
        "if N>L and N<R:\n",
        "  print(\"yes\")\n",
        "else:\n",
        "  print(\"no\")  \n",
        "# print(n)\n",
        "# print(l)\n",
        "# print(r)"
      ],
      "metadata": {
        "id": "-4BfP7Zqos2C",
        "outputId": "958ba802-3953-40be-f5a6-d76ad13eb4d4",
        "colab": {
          "base_uri": "https://localhost:8080/"
        }
      },
      "execution_count": 6,
      "outputs": [
        {
          "output_type": "stream",
          "name": "stdout",
          "text": [
            "3\n",
            "2 6\n",
            "yes\n"
          ]
        }
      ]
    },
    {
      "cell_type": "code",
      "source": [
        "# 2.Write a code to get the input and print it 5 times.\n",
        "\n",
        "# Input Description:\n",
        "# A single line contains an integer N.\n",
        "\n",
        "# Output Description:\n",
        "# Output contains 5 lines with each line having the value N.\n",
        "\n",
        "# Sample Input :\n",
        "# 4\n",
        "# Sample Output :\n",
        "# 4\n",
        "# 4\n",
        "# 4\n",
        "# 4\n",
        "# 4\n",
        "print(\"Sample Input\")\n",
        "N=int(input())\n",
        "print(\"Sample Output\")\n",
        "for i in range(5):\n",
        "  print(N)"
      ],
      "metadata": {
        "id": "IyMiK0GrrNp-",
        "outputId": "d6dec45f-13a0-47e9-b83e-b4a4fa0ac6dd",
        "colab": {
          "base_uri": "https://localhost:8080/"
        }
      },
      "execution_count": 8,
      "outputs": [
        {
          "output_type": "stream",
          "name": "stdout",
          "text": [
            "Sample Input\n",
            "4\n",
            "Sample Output\n",
            "4\n",
            "4\n",
            "4\n",
            "4\n",
            "4\n"
          ]
        }
      ]
    },
    {
      "cell_type": "code",
      "source": [
        "# 3.Given 2 numbers N and K followed by N elements,print the number of repetition of K otherwise print '-1' if the element not found.\n",
        "# Sample Testcase :\n",
        "# INPUT\n",
        "# 6 2\n",
        "# 1 2 3 5 7 8\n",
        "# OUTPUT\n",
        "# 0\n",
        "\n",
        "N,K=list(map(int,input().split(\" \")))\n",
        "\n",
        "L=list(map(int,input().split(\" \")))\n",
        "\n",
        "ans=L.count(K)\n",
        "\n",
        "if ans==1:\n",
        "  print(0)\n",
        "else:\n",
        "  print(-1)  "
      ],
      "metadata": {
        "id": "OS5vB6KSrr3c",
        "outputId": "957cb102-3ea7-4666-fa0b-1efdeb9b768b",
        "colab": {
          "base_uri": "https://localhost:8080/"
        }
      },
      "execution_count": 12,
      "outputs": [
        {
          "output_type": "stream",
          "name": "stdout",
          "text": [
            "6 2\n",
            "1 2 2 3 4 2\n",
            "3\n"
          ]
        }
      ]
    },
    {
      "cell_type": "code",
      "source": [
        "# 4.Given 2 numbers N and K followed by elements of N .Print 'yes' if K exists else print 'no'.\n",
        "# Sample Testcase :\n",
        "# INPUT\n",
        "# 4 2\n",
        "# 1 2 3 3\n",
        "# OUTPUT\n",
        "# yes\n",
        "\n",
        "N,K=list(map(int,input().split(\" \")))\n",
        "L=list(map(int,input().split(\" \")))\n",
        "\n",
        "\n",
        "A=L.count(K)\n",
        "\n",
        "if A>0:\n",
        "    print(\"yes\")\n",
        "else:\n",
        "    print(\"no\")\n",
        "    \n"
      ],
      "metadata": {
        "id": "VDapHBhQtlGu",
        "outputId": "cb69f401-186a-4b22-aa0c-6e80bc61cc07",
        "colab": {
          "base_uri": "https://localhost:8080/"
        }
      },
      "execution_count": 17,
      "outputs": [
        {
          "output_type": "stream",
          "name": "stdout",
          "text": [
            "4 2\n",
            "1 2 3 3\n",
            "Yes\n"
          ]
        }
      ]
    },
    {
      "cell_type": "code",
      "source": [
        "# 5.Kabali is a brave warrior who with his group of young ninjas moves from one place to another to fight against his opponents. Before Fighting he just calculates one thing, the difference between his ninja number and the opponent's ninja number. From this difference he decides whether to fight or not. Kabali's ninja number is never greater than his opponent.\n",
        "# Input\n",
        "# The input contains two numbers in every line. These two numbers in each line denotes the number ninjas in Kabali's clan and his opponent's clan . print the absolute difference of number of ninjas between Kabali's clan and his opponent's clan. Each output should be in seperate line.\n",
        "# Sample Testcase :\n",
        "# INPUT\n",
        "# 100 200\n",
        "# OUTPUT\n",
        "# 100\n",
        "\n",
        "Kabli,opponent=list(map(int,input().split(\" \")))\n",
        "\n",
        "output=opponent-Kabli\n",
        "print(output)"
      ],
      "metadata": {
        "id": "jpluG80e4YxM",
        "outputId": "943d686b-430e-4e62-816f-0f2ab5169363",
        "colab": {
          "base_uri": "https://localhost:8080/"
        }
      },
      "execution_count": 18,
      "outputs": [
        {
          "output_type": "stream",
          "name": "stdout",
          "text": [
            "100 200\n",
            "100\n"
          ]
        }
      ]
    },
    {
      "cell_type": "code",
      "source": [
        "# 6.Write a program to print the sum of the first K natural numbers.\n",
        "# Input Size : n <= 100000\n",
        "# Sample Testcase :\n",
        "# INPUT\n",
        "# 3\n",
        "# OUTPUT\n",
        "# 6\n",
        "\n",
        "K=int(input())\n",
        "l=[]\n",
        "for i in range(1,K+1):\n",
        "  l.append(i)\n",
        "print(sum(l))"
      ],
      "metadata": {
        "id": "IedWSocS5MaJ",
        "outputId": "16335e43-cc43-4809-edea-a98d730f1b23",
        "colab": {
          "base_uri": "https://localhost:8080/"
        }
      },
      "execution_count": 23,
      "outputs": [
        {
          "output_type": "stream",
          "name": "stdout",
          "text": [
            "3\n",
            "6\n"
          ]
        }
      ]
    },
    {
      "cell_type": "code",
      "source": [
        "# 7. Write a code to get an integer N and print the even values from 1 till N in a separate line.\n",
        "\n",
        "# Input Description:\n",
        "# A single line contains an integer N.\n",
        "\n",
        "# Output Description:\n",
        "# Print the even values from 1 to N in a separate line.\n",
        "\n",
        "# Sample Input :\n",
        "# 6\n",
        "# Sample Output :\n",
        "# 2\n",
        "# 4\n",
        "# 6\n",
        "\n",
        "N=int(input())\n",
        "\n",
        "for i in range(1,N+1):\n",
        "  if i%2==0:\n",
        "    print(i)"
      ],
      "metadata": {
        "id": "FNG4OFYb6XzH",
        "outputId": "51149386-7fa3-4d12-9ba0-5a2e15e61e97",
        "colab": {
          "base_uri": "https://localhost:8080/"
        }
      },
      "execution_count": 27,
      "outputs": [
        {
          "output_type": "stream",
          "name": "stdout",
          "text": [
            "6\n",
            "2\n",
            "4\n",
            "6\n"
          ]
        }
      ]
    },
    {
      "cell_type": "code",
      "source": [
        "# 8.Given 2 numbers N and M add both the numbers and check whether the sum is odd or even.\n",
        "# Sample Testcase :\n",
        "# INPUT\n",
        "# 9 2\n",
        "# OUTPUT\n",
        "# odd\n",
        "\n",
        "N,M=list(map(int,input().split(\" \")))\n",
        "\n",
        "num=N+M\n",
        "if num%2==0:\n",
        "  print(\"even\")\n",
        "else:\n",
        "  print(\"odd\")  "
      ],
      "metadata": {
        "id": "DjbsHXw97DtZ",
        "outputId": "3816b039-62ec-4b2a-dae7-378d847eed3c",
        "colab": {
          "base_uri": "https://localhost:8080/"
        }
      },
      "execution_count": 28,
      "outputs": [
        {
          "output_type": "stream",
          "name": "stdout",
          "text": [
            "9 2\n",
            "odd\n"
          ]
        }
      ]
    },
    {
      "cell_type": "code",
      "source": [
        "# 9.Given a range of 2 numbers (i.e) L and R count the number of prime numbers in the range (inclusive of L and R ).\n",
        "# Input Size : L <= R <= 100000(complexity O(n) read about Sieve of Eratosthenes)\n",
        "# Sample Testcase :\n",
        "# INPUT\n",
        "# 2 5\n",
        "# OUTPUT\n",
        "# 3\n",
        "\n",
        "L,R=list(map(int,input().split(\" \")))\n",
        "\n",
        "\n",
        "count = 0\n",
        "for n in range(L, R+1):\n",
        "    if n > 1:\n",
        "        for i in range(2, n):\n",
        "            if (n % i) == 0:\n",
        "                break\n",
        "        else:\n",
        "            count += 1\n",
        "\n",
        "print(count)\n"
      ],
      "metadata": {
        "id": "msfOWwkw9fe9",
        "outputId": "7cb34739-a789-479c-b652-0b2192d3fcc6",
        "colab": {
          "base_uri": "https://localhost:8080/"
        }
      },
      "execution_count": 40,
      "outputs": [
        {
          "output_type": "stream",
          "name": "stdout",
          "text": [
            "2 5\n",
            "3\n"
          ]
        }
      ]
    },
    {
      "cell_type": "code",
      "source": [
        "dir(list)"
      ],
      "metadata": {
        "id": "DJZSoPUM8AS_",
        "outputId": "bcffa640-eb16-40f7-af4b-495ea4ec32df",
        "colab": {
          "base_uri": "https://localhost:8080/"
        }
      },
      "execution_count": 30,
      "outputs": [
        {
          "output_type": "execute_result",
          "data": {
            "text/plain": [
              "['__add__',\n",
              " '__class__',\n",
              " '__class_getitem__',\n",
              " '__contains__',\n",
              " '__delattr__',\n",
              " '__delitem__',\n",
              " '__dir__',\n",
              " '__doc__',\n",
              " '__eq__',\n",
              " '__format__',\n",
              " '__ge__',\n",
              " '__getattribute__',\n",
              " '__getitem__',\n",
              " '__gt__',\n",
              " '__hash__',\n",
              " '__iadd__',\n",
              " '__imul__',\n",
              " '__init__',\n",
              " '__init_subclass__',\n",
              " '__iter__',\n",
              " '__le__',\n",
              " '__len__',\n",
              " '__lt__',\n",
              " '__mul__',\n",
              " '__ne__',\n",
              " '__new__',\n",
              " '__reduce__',\n",
              " '__reduce_ex__',\n",
              " '__repr__',\n",
              " '__reversed__',\n",
              " '__rmul__',\n",
              " '__setattr__',\n",
              " '__setitem__',\n",
              " '__sizeof__',\n",
              " '__str__',\n",
              " '__subclasshook__',\n",
              " 'append',\n",
              " 'clear',\n",
              " 'copy',\n",
              " 'count',\n",
              " 'extend',\n",
              " 'index',\n",
              " 'insert',\n",
              " 'pop',\n",
              " 'remove',\n",
              " 'reverse',\n",
              " 'sort']"
            ]
          },
          "metadata": {},
          "execution_count": 30
        }
      ]
    },
    {
      "cell_type": "markdown",
      "source": [
        "# **string**"
      ],
      "metadata": {
        "id": "m0d0fTPb121Q"
      }
    },
    {
      "cell_type": "code",
      "source": [
        "#1.You are given a number with duplicate digits your task is to remove the immediate duplicate digits and print the result\n",
        "\n",
        "# Input Description:\n",
        "# You are given a long string of digits\n",
        "\n",
        "# Output Description:\n",
        "# Print the desired result print -1 if result length is 0\n",
        "\n",
        "# Sample Input :\n",
        "# 1331\n",
        "# Sample Output :\n",
        "# 11\n",
        "\n"
      ],
      "metadata": {
        "id": "C5vMIRKA2f-J"
      },
      "execution_count": null,
      "outputs": []
    },
    {
      "cell_type": "code",
      "source": [
        "# Given 2 strings.check if the second string is a substring of the first string.Print 'yes' if there exists a valid substring otherwise print 'no'.\n",
        "# Input Size : 1 <= N <= 100000\n",
        "# Sample Testcase :\n",
        "# INPUT\n",
        "# codekata code\n",
        "# OUTPUT\n",
        "# yes\n",
        "\n",
        "s1,s2 = input().split(\" \")\n",
        "\n",
        "\n",
        "if s2 in s1:\n",
        "    print(\"yes\")\n",
        "else:\n",
        "    print(\"no\")\n"
      ],
      "metadata": {
        "id": "R0gPHjZ315eV",
        "outputId": "1649c157-bf19-44bd-9858-5c869b6c8be1",
        "colab": {
          "base_uri": "https://localhost:8080/"
        }
      },
      "execution_count": null,
      "outputs": [
        {
          "output_type": "stream",
          "name": "stdout",
          "text": [
            "codekata code\n",
            "yes\n"
          ]
        }
      ]
    },
    {
      "cell_type": "markdown",
      "source": [
        "# **zen**"
      ],
      "metadata": {
        "id": "RsgZ70zLPLfx"
      }
    },
    {
      "cell_type": "code",
      "source": [
        "# Given a number n Find whether the number is divisible  by 2,3 and 5.if divisible print yes else print no\n",
        "\n",
        "# Input Description:\n",
        "# 0<n<1000 Given a number n\n",
        "\n",
        "# Output Description:\n",
        "# Print yes or no\n",
        "\n",
        "# Sample Input :\n",
        "# 30\n",
        "# Sample Output :\n",
        "# yes\n",
        "\n",
        "\n"
      ],
      "metadata": {
        "id": "eF9MuHqNPQRT"
      },
      "execution_count": null,
      "outputs": []
    }
  ]
}